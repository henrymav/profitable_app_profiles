{
 "cells": [
  {
   "cell_type": "markdown",
   "metadata": {},
   "source": [
    "*This is my first project in Python. The goal of this project was to get comfortable using the Jupyter Notebook and use fundamental techniques and functions. I aim to revisit this project once my `Python` toolkit has expanded to make new analytical cuts of the data and provide new insights. Thank you for reading!*\n",
    "\n",
    "# Developing profitable apps for the Android and iOS app stores.\n",
    "\n",
    "In this project, we will be analysing data about apps in popular app download platforms such as the Google Android Play Store and the Apple App Store.\n",
    "\n",
    "The goal of this project is to be able to provide a recommendation to create a profitable free-to-download app. This recommendation could be in the form of a list of criteria that make an app popular or 'downloadable' or a specific category of app to focus on. The recommendation should support a dev team in the development of apps that make the most of a business model where revenue comes from in-app engagement and in-app purchases.\n",
    "\n",
    "In a [2020 article on Forbes](https://www.forbes.com/sites/forbestechcouncil/2020/04/28/mobile-app-monetization-part-1-revenue-generation-models/), Kontsevoi outlined six revenue models from apps:\n",
    "- app purchase\n",
    "- in-app purchase \n",
    "- selling third party content\n",
    "- subscriptions\n",
    "- advertising\n",
    "- serivce fees\n",
    "\n",
    "He suggests that the in-app purchase model or 'freemium' model is becoming\" increasingly popular among app publishers\" and to consider \"mixing and matching in-app purchase types\" to meet the diverse needs of an audience. This article shows that there is potential in pursuing this type of revenue models for app development teams which makes this research project worthwhile.  \n",
    "\n",
    "\n",
    "## The Data for this project\n",
    "\n",
    "In 2018, there were over 2.1 million apps in the Google Play Store and over 2 million iOS apps in the App Store. For the purposes of this project we will use existing datasets to avoid the expensive and time consuming process that data gathering can be. The datasets can be found on Kaggle.\n",
    "\n",
    "The data on apps in the Apple App Store was initially collected in 2017 by Ramanathan. It can be downloaded from this [link](https://www.kaggle.com/datasets/ramamet4/app-store-apple-data-set-10k-apps?search=wrong).\n",
    "\n",
    "The data on apps in the Google Play Store was collected in 2018 by Lavanya. It can be downloaded from this [link](https://www.kaggle.com/datasets/lava18/google-play-store-apps).\n",
    "\n",
    "*Note*: We should be considerate of the time at which this data was collected - 2017 and 2018. The mobile app market is highly dynamic and the market data will have likely changed since then. This could influence the criteria used as a proxies in this research to measure app popularity (eg. downloads & user rating). As a result, the recommendations to inform the business decision of this project is based on this data and may not be applicable to 2022 and beyond due to new trends and tendencies that have emerged since 2017. "
   ]
  },
  {
   "cell_type": "code",
   "execution_count": 1,
   "metadata": {},
   "outputs": [],
   "source": [
    "#importing libraries & modules\n",
    "from csv import reader"
   ]
  },
  {
   "cell_type": "code",
   "execution_count": 2,
   "metadata": {},
   "outputs": [],
   "source": [
    "#opening the files\n",
    "\n",
    "read_file_1 = open ('googleplaystore.csv')\n",
    "reader_1 = reader (read_file_1)\n",
    "android_apps_1 = list (reader_1)\n",
    "android_apps = android_apps_1 [1:] # removing the header row\n",
    "\n",
    "read_file_2 = open ('AppleStore.csv')\n",
    "reader_2 = reader (read_file_2)\n",
    "apple_apps_1 = list (reader_2)\n",
    "apple_apps = apple_apps_1 [1:] # removing the header row"
   ]
  },
  {
   "cell_type": "markdown",
   "metadata": {},
   "source": [
    "Let's find out more about the datasets:\n",
    "\n",
    "1. The header rows - to get an idea of the app metadata we will be working with during this project\n",
    "2. Data in the first few rows and the number of rows and columns in each dataset"
   ]
  },
  {
   "cell_type": "markdown",
   "metadata": {},
   "source": [
    "The header row of the Android Store Dataset."
   ]
  },
  {
   "cell_type": "code",
   "execution_count": 3,
   "metadata": {
    "scrolled": true
   },
   "outputs": [
    {
     "name": "stdout",
     "output_type": "stream",
     "text": [
      "['App', 'Category', 'Rating', 'Reviews', 'Size', 'Installs', 'Type', 'Price', 'Content Rating', 'Genres', 'Last Updated', 'Current Ver', 'Android Ver']\n"
     ]
    }
   ],
   "source": [
    "print (android_apps_1 [0]) # the Android Apps containing the header row"
   ]
  },
  {
   "cell_type": "markdown",
   "metadata": {},
   "source": [
    "The header row of the Apple App Store Dataset."
   ]
  },
  {
   "cell_type": "code",
   "execution_count": 4,
   "metadata": {
    "scrolled": true
   },
   "outputs": [
    {
     "name": "stdout",
     "output_type": "stream",
     "text": [
      "['id', 'track_name', 'size_bytes', 'currency', 'price', 'rating_count_tot', 'rating_count_ver', 'user_rating', 'user_rating_ver', 'ver', 'cont_rating', 'prime_genre', 'sup_devices.num', 'ipadSc_urls.num', 'lang.num', 'vpp_lic']\n"
     ]
    }
   ],
   "source": [
    "print (apple_apps_1 [0]) # the iOS Apps dataset containing the header row"
   ]
  },
  {
   "cell_type": "markdown",
   "metadata": {},
   "source": [
    "Let's print these in a more eye-friendly format with the column names and descriptors from the documentation to find out which columns (aka app metadata) can help us with our analysis."
   ]
  },
  {
   "cell_type": "markdown",
   "metadata": {},
   "source": [
    "### Android App Store column descriptions\n",
    "[Link to Android App Store Dataset Documentation](https://www.kaggle.com/datasets/lava18/google-play-store-apps/discussion) \n",
    "\n",
    "| Column Name in Android Dataset    | Description |\n",
    "| :---------     | ----------: |\n",
    "| \"App\"           | Application Name      |\n",
    "| \"Category\"   | Category the app belongs to        |\n",
    "| \"Rating\"   | Overall user rating of the app (as when scraped) |\n",
    "| \"Reviews\"     | Number of user reviews for the app (as when scraped) |\n",
    "| \"Size\"     | Size of the app (as when scraped) |\n",
    "| \"Installs\"     | Number of user downloads/installs for the app (as when scraped) |\n",
    "| \"Type\"     | Paid or Free |\n",
    "| \"Price\"     | Price of the app (as when scraped) |\n",
    "| \"Content Rating\"     | Age group the app is targeted at - Children / Mature 21+ / Adult |\n",
    "| \"Genres\"     | An app can belong to multiple genres (apart from its main category) |\n",
    "| \"Last Updated\"     | Date when the app was last updated on Play Store (as when scraped) |\n",
    "| \"Current Ver\"     | Current version of the app available on Play Store (as when scraped) |\n",
    "| \"Android Ver\"     | Min required Android version (as when scraped) |\n"
   ]
  },
  {
   "cell_type": "markdown",
   "metadata": {},
   "source": [
    "### Apple App Store column descriptions\n",
    "[Link to Apple App Store Dataset Documentation](https://www.kaggle.com/datasets/ramamet4/app-store-apple-data-set-10k-apps?search=wrong) \n",
    "\n",
    "| Column Name in Apple Dataset    | Description |\n",
    "| :---------     | ----------: |\n",
    "| \"id\"           | App ID      |\n",
    "| \"track_name\"   | App Name        |\n",
    "| \"size_bytes\"   | Size (in Bytes) |\n",
    "| \"price\"     | Price amount |\n",
    "| \"ratingcounttot\"     | User Rating counts (for all version) |\n",
    "| \"ratingcountver\"     | User Rating counts (for current version) |\n",
    "| \"user_rating\"     | Average User Rating value (for all version) |\n",
    "| \"userratingver\"     | Average User Rating value (for current version) |\n",
    "| \"ver\"     | Latest version code |\n",
    "| \"cont_rating\"     | Content Rating |\n",
    "| \"prime_genre\"     | Primary Genre |\n",
    "| \"sup_devices.num\"     | Number of supporting devices |\n",
    "| \"ipadSc_urls.num\"     | Number of screenshots showed for display |\n",
    "| \"lang.num\"     | Number of supported languages |\n",
    "| \"vpp_lic\"     | Vpp Device Based Licensing Enabled |"
   ]
  },
  {
   "cell_type": "markdown",
   "metadata": {
    "tags": []
   },
   "source": [
    "We can observe some similarities in capturated metadata between the two datasets such as: \n",
    "- App Name\n",
    "- App Price\n",
    "- App Category (Genre in the Apple Apple DataSet)\n",
    "- App User Rating\n",
    "- App User Reviews (number of)\n",
    "- App Size\n",
    "- App content Rating (Age Restriction/ Recommendation)\n",
    "\n",
    "The columns of interest for our project are: `Category`, `User Rating`. Some other interesting criteria can be: content rating - are apps that are open to wider audience (children & adults) more likely to be downloaded? \n",
    "\n",
    "Each dataset does have unique app metadata that is not collected in the other dataset, which could be explored and analysed to answer different questions beyond the current scope of the project. \n",
    "\n",
    "Unique app metadata in the **Android Dataset**\n",
    "- Installs\n",
    "- Second Category - an app can belong to more than one category\n",
    "- Free or Paid \n",
    "- Last Updated\n",
    "\n",
    "Unique app metadata in the **Apple Dataset**\n",
    "- Number of supported languages\n",
    "- Number of supporting devices\n"
   ]
  },
  {
   "cell_type": "markdown",
   "metadata": {},
   "source": [
    "## Exploring the data"
   ]
  },
  {
   "cell_type": "markdown",
   "metadata": {},
   "source": [
    "We will explore the data by printing the first few rows of data and finding the size of the datasets. We will create a custom function for this purpose. "
   ]
  },
  {
   "cell_type": "code",
   "execution_count": 5,
   "metadata": {
    "scrolled": true
   },
   "outputs": [],
   "source": [
    "#defining a function which will print a cut of the dataset we define in the parameters, with correspinding index numbers for rows\n",
    "\n",
    "def explore_data(dataset, start, end, rows_and_columns=False):\n",
    "    dataset_slice = dataset[start:end]    \n",
    "    for row in dataset_slice:\n",
    "        print(row)\n",
    "        print('\\n') # adds a new (empty) line after each row\n",
    "\n",
    "    if rows_and_columns:\n",
    "        print('In the entire dataset the') #added line for better readability\n",
    "        print('Number of rows:', len(dataset))\n",
    "        print('Number of columns:', len(dataset[0]))\n",
    "        print('\\n') #added break line for better readability\n",
    "\n",
    "# The last snipet of code prints the number of rows and columns for each dataset if we set the rows_and_columns parameter equivalent to True."
   ]
  },
  {
   "cell_type": "code",
   "execution_count": 6,
   "metadata": {},
   "outputs": [
    {
     "name": "stdout",
     "output_type": "stream",
     "text": [
      "The Android Apps data set - first 5 rows excluding the header:\n",
      "\n",
      "\n",
      "['Photo Editor & Candy Camera & Grid & ScrapBook', 'ART_AND_DESIGN', '4.1', '159', '19M', '10,000+', 'Free', '0', 'Everyone', 'Art & Design', 'January 7, 2018', '1.0.0', '4.0.3 and up']\n",
      "\n",
      "\n",
      "['Coloring book moana', 'ART_AND_DESIGN', '3.9', '967', '14M', '500,000+', 'Free', '0', 'Everyone', 'Art & Design;Pretend Play', 'January 15, 2018', '2.0.0', '4.0.3 and up']\n",
      "\n",
      "\n",
      "['U Launcher Lite – FREE Live Cool Themes, Hide Apps', 'ART_AND_DESIGN', '4.7', '87510', '8.7M', '5,000,000+', 'Free', '0', 'Everyone', 'Art & Design', 'August 1, 2018', '1.2.4', '4.0.3 and up']\n",
      "\n",
      "\n",
      "['Sketch - Draw & Paint', 'ART_AND_DESIGN', '4.5', '215644', '25M', '50,000,000+', 'Free', '0', 'Teen', 'Art & Design', 'June 8, 2018', 'Varies with device', '4.2 and up']\n",
      "\n",
      "\n",
      "['Pixel Draw - Number Art Coloring Book', 'ART_AND_DESIGN', '4.3', '967', '2.8M', '100,000+', 'Free', '0', 'Everyone', 'Art & Design;Creativity', 'June 20, 2018', '1.1', '4.4 and up']\n",
      "\n",
      "\n",
      "In the entire dataset the\n",
      "Number of rows: 10841\n",
      "Number of columns: 13\n",
      "\n",
      "\n"
     ]
    }
   ],
   "source": [
    "#for the Android Data Set\n",
    "print ('The Android Apps data set - first 5 rows excluding the header:')\n",
    "print ('\\n')\n",
    "explore_android_data = explore_data (android_apps,0,5, True)"
   ]
  },
  {
   "cell_type": "code",
   "execution_count": 7,
   "metadata": {
    "scrolled": false
   },
   "outputs": [
    {
     "name": "stdout",
     "output_type": "stream",
     "text": [
      "The Apple Apps Data set - first 5 rows excluding the header:\n",
      "\n",
      "\n",
      "['284882215', 'Facebook', '389879808', 'USD', '0.0', '2974676', '212', '3.5', '3.5', '95.0', '4+', 'Social Networking', '37', '1', '29', '1']\n",
      "\n",
      "\n",
      "['389801252', 'Instagram', '113954816', 'USD', '0.0', '2161558', '1289', '4.5', '4.0', '10.23', '12+', 'Photo & Video', '37', '0', '29', '1']\n",
      "\n",
      "\n",
      "['529479190', 'Clash of Clans', '116476928', 'USD', '0.0', '2130805', '579', '4.5', '4.5', '9.24.12', '9+', 'Games', '38', '5', '18', '1']\n",
      "\n",
      "\n",
      "['420009108', 'Temple Run', '65921024', 'USD', '0.0', '1724546', '3842', '4.5', '4.0', '1.6.2', '9+', 'Games', '40', '5', '1', '1']\n",
      "\n",
      "\n",
      "['284035177', 'Pandora - Music & Radio', '130242560', 'USD', '0.0', '1126879', '3594', '4.0', '4.5', '8.4.1', '12+', 'Music', '37', '4', '1', '1']\n",
      "\n",
      "\n",
      "In the entire dataset the\n",
      "Number of rows: 7197\n",
      "Number of columns: 16\n",
      "\n",
      "\n"
     ]
    }
   ],
   "source": [
    "#for the Apple Data Set\n",
    "print ('The Apple Apps Data set - first 5 rows excluding the header:')\n",
    "print ('\\n')\n",
    "explore_apple_data = explore_data (apple_apps,0,5,True) "
   ]
  },
  {
   "cell_type": "markdown",
   "metadata": {},
   "source": [
    "---"
   ]
  },
  {
   "cell_type": "markdown",
   "metadata": {},
   "source": [
    "## Cleaning the data"
   ]
  },
  {
   "cell_type": "markdown",
   "metadata": {
    "tags": []
   },
   "source": [
    "### The Android dataset - Removing wrong entries\n",
    "\n",
    "In [this discussion](https://www.kaggle.com/datasets/lava18/google-play-store-apps/discussion/66015) about the data, PhaniKiranSiddineni identifies a wrong entry in row 10472 for the Android Data Set (`android_apps` in this project).\n",
    "\n",
    "Let's print this row and the ones around it to find the wrong entry."
   ]
  },
  {
   "cell_type": "code",
   "execution_count": 8,
   "metadata": {
    "scrolled": true
   },
   "outputs": [
    {
     "name": "stdout",
     "output_type": "stream",
     "text": [
      "['App', 'Category', 'Rating', 'Reviews', 'Size', 'Installs', 'Type', 'Price', 'Content Rating', 'Genres', 'Last Updated', 'Current Ver', 'Android Ver']\n",
      "\n",
      "\n",
      "['Xposed Wi-Fi-Pwd', 'PERSONALIZATION', '3.5', '1042', '404k', '100,000+', 'Free', '0', 'Everyone', 'Personalization', 'August 5, 2014', '3.0.0', '4.0.3 and up']\n",
      "\n",
      "\n",
      "['Life Made WI-Fi Touchscreen Photo Frame', '1.9', '19', '3.0M', '1,000+', 'Free', '0', 'Everyone', '', 'February 11, 2018', '1.0.19', '4.0 and up']\n",
      "\n",
      "\n",
      "['osmino Wi-Fi: free WiFi', 'TOOLS', '4.2', '134203', '4.1M', '10,000,000+', 'Free', '0', 'Everyone', 'Tools', 'August 7, 2018', '6.06.14', '4.4 and up']\n",
      "\n",
      "\n"
     ]
    }
   ],
   "source": [
    "print (android_apps_1 [0])\n",
    "print ('\\n')\n",
    "for row in android_apps [10471:10474]:\n",
    "    print (row)\n",
    "    print ('\\n')"
   ]
  },
  {
   "cell_type": "markdown",
   "metadata": {},
   "source": [
    "We can indeed observe that the app `'Life Made WI-Fi Touchscreen Photo Frame'` is missing `'Category'`, and `'Genres'` entries. Let's remove this row from our data."
   ]
  },
  {
   "cell_type": "code",
   "execution_count": 9,
   "metadata": {},
   "outputs": [],
   "source": [
    "#using the del function\n",
    "del android_apps [10472]"
   ]
  },
  {
   "cell_type": "markdown",
   "metadata": {},
   "source": [
    "Let's print the rows with a similar index range to ensure the data point is no longer in our dataset. "
   ]
  },
  {
   "cell_type": "code",
   "execution_count": 10,
   "metadata": {},
   "outputs": [
    {
     "name": "stdout",
     "output_type": "stream",
     "text": [
      "['Xposed Wi-Fi-Pwd', 'PERSONALIZATION', '3.5', '1042', '404k', '100,000+', 'Free', '0', 'Everyone', 'Personalization', 'August 5, 2014', '3.0.0', '4.0.3 and up']\n",
      "\n",
      "\n",
      "['osmino Wi-Fi: free WiFi', 'TOOLS', '4.2', '134203', '4.1M', '10,000,000+', 'Free', '0', 'Everyone', 'Tools', 'August 7, 2018', '6.06.14', '4.4 and up']\n",
      "\n",
      "\n",
      "['Sat-Fi Voice', 'COMMUNICATION', '3.4', '37', '14M', '1,000+', 'Free', '0', 'Everyone', 'Communication', 'November 21, 2014', '2.2.1.5', '2.2 and up']\n",
      "\n",
      "\n"
     ]
    }
   ],
   "source": [
    "for row in android_apps [10471:10474]:\n",
    "    print (row)\n",
    "    print ('\\n')"
   ]
  },
  {
   "cell_type": "markdown",
   "metadata": {},
   "source": [
    "We can clearly see that the row with entries about the app `'Life Made WI-Fi Touchscreen Photo Frame'` has been removed."
   ]
  },
  {
   "cell_type": "markdown",
   "metadata": {},
   "source": [
    "### The Android apps dataset - Removing duplicates\n",
    "\n",
    "We can check for app duplicates and remove them from our data with the following steps:\n",
    "\n",
    "1. Counting duplicate with by looping over our `android_app` dataset and checking for equivalent `'App'` names.\n",
    "2. Printing duplicate App rows to see how they compare \n",
    "3. Select a criterion to remove duplicate entries to keep the most accurate entry about an app in the dataset"
   ]
  },
  {
   "cell_type": "code",
   "execution_count": 11,
   "metadata": {},
   "outputs": [
    {
     "name": "stdout",
     "output_type": "stream",
     "text": [
      "Number of duplicate apps:  1181\n",
      "Number of unique apps:  9659\n",
      "\n",
      "\n",
      "Total number of entries:  10840\n"
     ]
    }
   ],
   "source": [
    "duplicate_apps_android = [] # create dedicated list for duplicate apps\n",
    "unique_apps_android = [] # create dedicated list for unique apps\n",
    "\n",
    "for app in android_apps: #looping through our entire dataset without the header\n",
    "    name = app [0]   # name of app is in row 1, with index [0]\n",
    "    if name in unique_apps_android:\n",
    "        duplicate_apps_android.append (name) #if name already exists in unique apps dataset, then append duplicate apps dataset\n",
    "    else:\n",
    "        unique_apps_android.append (name) # condition so that if name doesn't  appear in unique, then it will append the unique apps dataset\n",
    "        \n",
    "print ('Number of duplicate apps: ', len (duplicate_apps_android))\n",
    "print ('Number of unique apps: ', len (unique_apps_android))\n",
    "print ('\\n')\n",
    "print ('Total number of entries: ', len (duplicate_apps_android) +len (unique_apps_android)) # to ensure this adds up to our original number of rows in the entire dataset"
   ]
  },
  {
   "cell_type": "code",
   "execution_count": 12,
   "metadata": {},
   "outputs": [
    {
     "name": "stdout",
     "output_type": "stream",
     "text": [
      "A few duplicate app entries:\n",
      "['Quick PDF Scanner + OCR FREE', 'Box', 'Google My Business', 'ZOOM Cloud Meetings', 'join.me - Simple Meetings', 'Box', 'Zenefits', 'Google Ads', 'Google My Business', 'Slack', 'FreshBooks Classic', 'Insightly CRM', 'QuickBooks Accounting: Invoicing & Expenses', 'HipChat - Chat Built for Teams', 'Xero Accounting Software', 'MailChimp - Email, Marketing Automation', 'Crew - Free Messaging and Scheduling', 'Asana: organize team projects', 'Google Analytics', 'AdWords Express']\n"
     ]
    }
   ],
   "source": [
    "print ('A few duplicate app entries:')\n",
    "print (duplicate_apps_android [:20])"
   ]
  },
  {
   "cell_type": "markdown",
   "metadata": {},
   "source": [
    "The list above shows us there are a significant number of duplicate entries.\n",
    "\n",
    "Let's print some duplicate entries of popular social media apps to see which criterion we can use to remove duplicate entries."
   ]
  },
  {
   "cell_type": "code",
   "execution_count": 13,
   "metadata": {},
   "outputs": [
    {
     "name": "stdout",
     "output_type": "stream",
     "text": [
      "['App', 'Category', 'Rating', 'Reviews', 'Size', 'Installs', 'Type', 'Price', 'Content Rating', 'Genres', 'Last Updated', 'Current Ver', 'Android Ver']\n",
      "\n",
      "\n",
      "'Snapchat' Duplicates\n",
      "['Snapchat', 'SOCIAL', '4.0', '17014787', 'Varies with device', '500,000,000+', 'Free', '0', 'Teen', 'Social', 'July 30, 2018', 'Varies with device', 'Varies with device']\n",
      "['Snapchat', 'SOCIAL', '4.0', '17014705', 'Varies with device', '500,000,000+', 'Free', '0', 'Teen', 'Social', 'July 30, 2018', 'Varies with device', 'Varies with device']\n",
      "['Snapchat', 'SOCIAL', '4.0', '17015352', 'Varies with device', '500,000,000+', 'Free', '0', 'Teen', 'Social', 'July 30, 2018', 'Varies with device', 'Varies with device']\n",
      "['Snapchat', 'SOCIAL', '4.0', '17000166', 'Varies with device', '500,000,000+', 'Free', '0', 'Teen', 'Social', 'July 30, 2018', 'Varies with device', 'Varies with device']\n",
      "\n",
      "\n",
      "'Facebook' Duplicates\n",
      "['Facebook', 'SOCIAL', '4.1', '78158306', 'Varies with device', '1,000,000,000+', 'Free', '0', 'Teen', 'Social', 'August 3, 2018', 'Varies with device', 'Varies with device']\n",
      "['Facebook', 'SOCIAL', '4.1', '78128208', 'Varies with device', '1,000,000,000+', 'Free', '0', 'Teen', 'Social', 'August 3, 2018', 'Varies with device', 'Varies with device']\n"
     ]
    }
   ],
   "source": [
    "print (android_apps_1[0]) #header row\n",
    "print  ('\\n')\n",
    "\n",
    "print (\"'Snapchat' Duplicates\")\n",
    "for app in android_apps:\n",
    "    name = app [0]\n",
    "    if name == 'Snapchat':\n",
    "        print(app)\n",
    "        \n",
    "print  ('\\n')\n",
    "\n",
    "print (\"'Facebook' Duplicates\")\n",
    "for app in android_apps:\n",
    "    name = app [0]\n",
    "    if name == 'Facebook':\n",
    "        print(app)   "
   ]
  },
  {
   "cell_type": "markdown",
   "metadata": {},
   "source": [
    "We can observe that the `'Reviews'` data entries are the only ones that vary. Other potential criteria such as `'Last Updated'` (which could indicate the latest version) remain similar across duplicate entries. If we keep the app row with the highest `'Reviews'` value - we are likely keeping the entry that is most.\n",
    "\n",
    "*We conclude to use`'Reviews'` as our criterion to remove duplicates.*\n",
    "\n",
    "In order to remove the duplicates we will:\n",
    "- Create a dictionary (`reviews_max`), where each dictionary key is a unique app name and the corresponding dictionary value is the highest number of reviews for that app.\n",
    "- Use the information stored in the dictionary and create a new dataset, which will have a single data point per app (for each app, we will select the entry with the highest number of reviews)."
   ]
  },
  {
   "cell_type": "code",
   "execution_count": 14,
   "metadata": {},
   "outputs": [
    {
     "name": "stdout",
     "output_type": "stream",
     "text": [
      "Expected length of the \"reviews_max\" dictionary: 9,659 entries\n",
      "Actual length of the \"reviews_max\" dictionary: 9659\n"
     ]
    }
   ],
   "source": [
    "reviews_max = {}\n",
    "for app in android_apps:\n",
    "    name = app [0]\n",
    "    n_reviews = float (app[3]) #converting reviews index [3], to float\n",
    "    \n",
    "    if name in reviews_max and reviews_max[name] < n_reviews:\n",
    "        reviews_max[name] = n_reviews\n",
    "    elif name not in reviews_max:\n",
    "        reviews_max[name] = n_reviews\n",
    "        \n",
    "print ('Expected length of the \"reviews_max\" dictionary: 9,659 entries') # as is the len() of our unique apps dataset\n",
    "print ('Actual length of the \"reviews_max\" dictionary:', len (reviews_max)) #computing the len() of our newly formed dictionary"
   ]
  },
  {
   "cell_type": "markdown",
   "metadata": {},
   "source": [
    "Now we can remove the duplicate rows by:\n",
    "- creating an empty dictionary (`android_clean`) that will serve as our new dataset with no duplicates\n",
    "- creating a empty dictionary (`android_added`) that will keep track of apps we have already added in our new dataset 'android_clean', as we need to keep track of duplicates because we will be looping over the entire `android_apps` dataset"
   ]
  },
  {
   "cell_type": "code",
   "execution_count": 15,
   "metadata": {
    "tags": []
   },
   "outputs": [
    {
     "name": "stdout",
     "output_type": "stream",
     "text": [
      "9659\n",
      "9659\n"
     ]
    }
   ],
   "source": [
    "android_clean = []\n",
    "already_added = []\n",
    "\n",
    "for apps in android_apps:\n",
    "    name = apps [0]\n",
    "    n_reviews = float (apps[3])\n",
    "    \n",
    "    if (reviews_max[name] == n_reviews) and (name not in already_added): \n",
    "        android_clean.append(apps) # appending entire row as a list in the dictionary android_clean\n",
    "        already_added.append(name) # keep track of added apps by their name\n",
    "        \n",
    "# these two dictionaryes (android_clean & already_added) should be the same length\n",
    "print (len (android_clean))\n",
    "print (len (already_added))\n"
   ]
  },
  {
   "cell_type": "markdown",
   "metadata": {},
   "source": [
    "As expected, our lists are similar in length, as is the original `reviews_max` dictionary. They each consist of 9,659 app entries.\n",
    "\n",
    "Let's explore the first three rows of the Android dataset - `android_clean`."
   ]
  },
  {
   "cell_type": "code",
   "execution_count": 16,
   "metadata": {},
   "outputs": [
    {
     "name": "stdout",
     "output_type": "stream",
     "text": [
      "['Photo Editor & Candy Camera & Grid & ScrapBook', 'ART_AND_DESIGN', '4.1', '159', '19M', '10,000+', 'Free', '0', 'Everyone', 'Art & Design', 'January 7, 2018', '1.0.0', '4.0.3 and up']\n",
      "\n",
      "\n",
      "['U Launcher Lite – FREE Live Cool Themes, Hide Apps', 'ART_AND_DESIGN', '4.7', '87510', '8.7M', '5,000,000+', 'Free', '0', 'Everyone', 'Art & Design', 'August 1, 2018', '1.2.4', '4.0.3 and up']\n",
      "\n",
      "\n",
      "['Sketch - Draw & Paint', 'ART_AND_DESIGN', '4.5', '215644', '25M', '50,000,000+', 'Free', '0', 'Teen', 'Art & Design', 'June 8, 2018', 'Varies with device', '4.2 and up']\n",
      "\n",
      "\n",
      "In the entire dataset the\n",
      "Number of rows: 9659\n",
      "Number of columns: 13\n",
      "\n",
      "\n"
     ]
    }
   ],
   "source": [
    "explore_data (android_clean, 0, 3, True)"
   ]
  },
  {
   "cell_type": "markdown",
   "metadata": {},
   "source": [
    "### The Android and Apple datasets - Removing non-English app entries\n",
    "\n",
    "Let us turn our attention to app names. As this data collection is global, there are app entries that will not be in English. The goal is to capture as much market share (global) as possible but an English-speaking audience will be used to prototype the app at first. We also do not have georgraphic data about app downloads or reviews, and therefore would be not be able to segment the data to make an informed decision about different markets other than the English-speaking ones.\n",
    "\n",
    "We will therefore delete the rows where app names are not in English. \n",
    "\n",
    "Let's write a function that helps us find non-english characters. We can then apply that function to the the `track_name'`or `app_name` row. \n",
    "\n",
    "According to the ASCII (American Standard Code for Information Interchange) system, each character we use in a string (`ex_string = 'English 101!'`) and including the digits from 0 to 9, punctuation marks (., !, ?, ;), and other symbols (+, \\*,/) has a corresponding number associated with it (in the range 0 to 127). We can identify the corresponding number of each character using the built-in `ord()` function.\n",
    "\n",
    "If the number is equal to or less than 127, then the character belongs to the set of common English characters. Therefore, our function needs to find any corresponding string character that is not in the range `n <= 127`, where `n ` is an integer."
   ]
  },
  {
   "cell_type": "code",
   "execution_count": 17,
   "metadata": {},
   "outputs": [],
   "source": [
    "def english_only (string):\n",
    "    for character in string:\n",
    "        n = ord(character) # here we assign n only within the loop of the function\n",
    "        if n > 127 :\n",
    "            return False\n",
    "        \n",
    "    return True"
   ]
  },
  {
   "cell_type": "markdown",
   "metadata": {},
   "source": [
    "Let's test our function with the following strings:\n",
    "- 'Instagram'\n",
    "- '爱奇艺PPS -《欢乐颂2》电视剧热播'\n",
    "- 'Docs To Go™ Free Office Suite'\n",
    "- 'Instachat 😜'"
   ]
  },
  {
   "cell_type": "code",
   "execution_count": 18,
   "metadata": {},
   "outputs": [
    {
     "name": "stdout",
     "output_type": "stream",
     "text": [
      "True\n",
      "False\n",
      "False\n",
      "False\n"
     ]
    }
   ],
   "source": [
    "print(english_only ('Instagram'))\n",
    "print(english_only ('爱奇艺PPS -《欢乐颂2》电视剧热播'))\n",
    "print(english_only ('Docs To Go™ Free Office Suite'))\n",
    "print(english_only ('Instachat 😜'))"
   ]
  },
  {
   "cell_type": "markdown",
   "metadata": {},
   "source": [
    "We can observe that our funtion returns `False`  as intended if the app names are not in English, but also returns `False` if there are special characters beyond the usual punctuation and numbers.\n",
    "\n",
    "This means we may lose valuable data entries if we use this function to filter out non-English app names, while some app names in the dataset contain special characters such as '😜' or '™'.\n",
    "\n",
    "We will refine (but not to perfection) our function so that it returns `False` only if there are more than 3 characters with corresponding numbers falling outside the `n <= 127` ASCII range. "
   ]
  },
  {
   "cell_type": "code",
   "execution_count": 19,
   "metadata": {},
   "outputs": [],
   "source": [
    "def english_only (string):\n",
    "    outside_ascii = 0 #creating a variable designated for outside the ASCII range, starting at 0 \n",
    "    \n",
    "    for character in string:\n",
    "        if ord(character) > 127:\n",
    "            outside_ascii +=1 # for every ord(character) that is greater than 127, add 1 to the 'outside_ascii' variable\n",
    "        \n",
    "    if outside_ascii > 3:\n",
    "        return False # if the 'outside_ascii' value is greater than 3, return False, meaning title is unlikely to be in English\n",
    "    else:            # 'else' important here as we want ALL OTHER 'string' character inputs which won't have an 'outside_ascii value' above 3 to be accounted for\n",
    "        return True "
   ]
  },
  {
   "cell_type": "markdown",
   "metadata": {},
   "source": [
    "Let's test our function with the same words as above:\n",
    "- 'Instagram'\n",
    "- '爱奇艺PPS -《欢乐颂2》电视剧热播'\n",
    "- 'Docs To Go™ Free Office Suite'\n",
    "- 'Instachat 😜'"
   ]
  },
  {
   "cell_type": "code",
   "execution_count": 20,
   "metadata": {},
   "outputs": [
    {
     "name": "stdout",
     "output_type": "stream",
     "text": [
      "True\n",
      "False\n",
      "True\n",
      "True\n"
     ]
    }
   ],
   "source": [
    "print(english_only ('Instagram'))\n",
    "print(english_only ('爱奇艺PPS -《欢乐颂2》电视剧热播'))\n",
    "print(english_only ('Docs To Go™ Free Office Suite'))\n",
    "print(english_only ('Instachat 😜'))"
   ]
  },
  {
   "cell_type": "markdown",
   "metadata": {},
   "source": [
    "We can observe that the function can now help us detect non-English app entries for any `string` input. \n",
    "\n",
    "Let's filter the non-English apps from both datasets by:\n",
    "- looping through the dataset\n",
    "- if an app name is in English, append the whole row to a separate list (our English only data)"
   ]
  },
  {
   "cell_type": "code",
   "execution_count": 21,
   "metadata": {
    "scrolled": false
   },
   "outputs": [
    {
     "name": "stdout",
     "output_type": "stream",
     "text": [
      "['Photo Editor & Candy Camera & Grid & ScrapBook', 'ART_AND_DESIGN', '4.1', '159', '19M', '10,000+', 'Free', '0', 'Everyone', 'Art & Design', 'January 7, 2018', '1.0.0', '4.0.3 and up']\n",
      "\n",
      "\n",
      "['U Launcher Lite – FREE Live Cool Themes, Hide Apps', 'ART_AND_DESIGN', '4.7', '87510', '8.7M', '5,000,000+', 'Free', '0', 'Everyone', 'Art & Design', 'August 1, 2018', '1.2.4', '4.0.3 and up']\n",
      "\n",
      "\n",
      "['Sketch - Draw & Paint', 'ART_AND_DESIGN', '4.5', '215644', '25M', '50,000,000+', 'Free', '0', 'Teen', 'Art & Design', 'June 8, 2018', 'Varies with device', '4.2 and up']\n",
      "\n",
      "\n",
      "In the entire dataset the\n",
      "Number of rows: 9614\n",
      "Number of columns: 13\n",
      "\n",
      "\n"
     ]
    }
   ],
   "source": [
    "android_english = []\n",
    "\n",
    "for row in android_clean: #remember to loop through our dataset with no duplicates 'android_clean'\n",
    "    name = row [0]\n",
    "    if english_only(name):\n",
    "        android_english.append(row)\n",
    "\n",
    "explore_data (android_english, 0, 3, True)"
   ]
  },
  {
   "cell_type": "markdown",
   "metadata": {},
   "source": [
    "Now we turn our attention to the Apple app dataset."
   ]
  },
  {
   "cell_type": "code",
   "execution_count": 22,
   "metadata": {},
   "outputs": [
    {
     "name": "stdout",
     "output_type": "stream",
     "text": [
      "['284882215', 'Facebook', '389879808', 'USD', '0.0', '2974676', '212', '3.5', '3.5', '95.0', '4+', 'Social Networking', '37', '1', '29', '1']\n",
      "\n",
      "\n",
      "['389801252', 'Instagram', '113954816', 'USD', '0.0', '2161558', '1289', '4.5', '4.0', '10.23', '12+', 'Photo & Video', '37', '0', '29', '1']\n",
      "\n",
      "\n",
      "['529479190', 'Clash of Clans', '116476928', 'USD', '0.0', '2130805', '579', '4.5', '4.5', '9.24.12', '9+', 'Games', '38', '5', '18', '1']\n",
      "\n",
      "\n",
      "In the entire dataset the\n",
      "Number of rows: 6183\n",
      "Number of columns: 16\n",
      "\n",
      "\n"
     ]
    }
   ],
   "source": [
    "apple_english = []\n",
    "\n",
    "for row in apple_apps:\n",
    "    name = row [1] # remember app name is row 2, index [1], unlike android dataset which is [0]\n",
    "    if english_only (name) is True:\n",
    "        apple_english.append (row)\n",
    "\n",
    "explore_data (apple_english, 0, 3, True)"
   ]
  },
  {
   "cell_type": "markdown",
   "metadata": {},
   "source": [
    "### The Android and Apple datasets - Removing paid apps\n",
    "\n",
    "As we mentioned in the introduction, we only build apps that are free to download and install, and our main source of revenue consists of in-app engagement and purchases. Our datasets contain both free and paid apps; we'll need to isolate only the free apps for our analysis."
   ]
  },
  {
   "cell_type": "markdown",
   "metadata": {},
   "source": [
    "For each dataset, we will:\n",
    "- Create a list \n",
    "- Loop over the respective English-only datasets to append the lists every time an app is free depending on the criterion we use to assess it."
   ]
  },
  {
   "cell_type": "code",
   "execution_count": 23,
   "metadata": {},
   "outputs": [
    {
     "name": "stdout",
     "output_type": "stream",
     "text": [
      "A reminder of header row for Android dataset:\n",
      "['App', 'Category', 'Rating', 'Reviews', 'Size', 'Installs', 'Type', 'Price', 'Content Rating', 'Genres', 'Last Updated', 'Current Ver', 'Android Ver']\n"
     ]
    }
   ],
   "source": [
    "print ('A reminder of header row for Android dataset:')\n",
    "print (android_apps_1[0])"
   ]
  },
  {
   "cell_type": "markdown",
   "metadata": {},
   "source": [
    "In the Android dataset, there are two ways to filter out apps that are free:\n",
    "- The `'Type'` (index `[6]`) - indicates app as `Paid` or `Free`\n",
    "- The `'Price'` (index `[7]`) - indicates price as a string\n",
    "\n",
    "Let's check both."
   ]
  },
  {
   "cell_type": "code",
   "execution_count": 24,
   "metadata": {},
   "outputs": [
    {
     "name": "stdout",
     "output_type": "stream",
     "text": [
      "Free Apps in Android Dataset:\n",
      "Using the 'Type' criterion:  8863\n",
      "Using the 'Price' criterion:  8864\n"
     ]
    }
   ],
   "source": [
    "android_free = []\n",
    "android_paid = [] #let's create this list for paid apps, we may want to use it as an extension of this project if we deliver under budget :)\n",
    "\n",
    "for app in android_english:\n",
    "    free_or_not = app [6]\n",
    "    if free_or_not == 'Free':\n",
    "        android_free.append(app)\n",
    "    elif free_or_not == 'Paid':\n",
    "        android_paid.append(app )\n",
    "        \n",
    "android_free_1 = []\n",
    "for app in android_english:\n",
    "    price = app[7]\n",
    "    if price == '0':\n",
    "        android_free_1.append(app)\n",
    "\n",
    "\n",
    "print('Free Apps in Android Dataset:')\n",
    "print (\"Using the 'Type' criterion: \", len(android_free))\n",
    "print (\"Using the 'Price' criterion: \", len(android_free_1))\n"
   ]
  },
  {
   "cell_type": "markdown",
   "metadata": {},
   "source": [
    "The difference is small and therefore not worthwhile to investigate which row it concerns, but let's keep it as a note if we want to revisit this project."
   ]
  },
  {
   "cell_type": "code",
   "execution_count": 25,
   "metadata": {},
   "outputs": [
    {
     "name": "stdout",
     "output_type": "stream",
     "text": [
      "A reminder of header row for Apple dataset:\n",
      "['id', 'track_name', 'size_bytes', 'currency', 'price', 'rating_count_tot', 'rating_count_ver', 'user_rating', 'user_rating_ver', 'ver', 'cont_rating', 'prime_genre', 'sup_devices.num', 'ipadSc_urls.num', 'lang.num', 'vpp_lic']\n"
     ]
    }
   ],
   "source": [
    "print ('A reminder of header row for Apple dataset:')\n",
    "print (apple_apps_1[0])"
   ]
  },
  {
   "cell_type": "code",
   "execution_count": 26,
   "metadata": {},
   "outputs": [
    {
     "name": "stdout",
     "output_type": "stream",
     "text": [
      "['0.0', '0.0', '0.0', '0.0', '0.0', '0.0', '0.0', '0.0', '0.0', '0.0', '1.99', '0.0', '0.0', '0.0', '0.0', '0.0', '0.99', '6.99', '0.0', '0.0', '0.0', '0.0', '0.0', '0.0', '0.0', '0.0', '0.0', '0.99', '0.0', '0.0', '0.0', '0.0', '0.0', '0.0', '0.0', '0.0', '0.99', '0.0', '0.0', '0.0', '0.0', '0.0', '0.0', '0.0', '2.99', '0.0', '0.0', '0.0', '0.0']\n"
     ]
    }
   ],
   "source": [
    "price_format_apple = []\n",
    "for row in apple_english:\n",
    "    price = row [4]\n",
    "    price_format_apple.append(price)\n",
    "\n",
    "print (price_format_apple[1:50])"
   ]
  },
  {
   "cell_type": "markdown",
   "metadata": {},
   "source": [
    "In the Apple dataset, there is a single row to help us filter out apps that are free:\n",
    "- The `price` - indicates price as a string\n",
    "\n",
    "Let's run the same filter as we did for the Android dataset above."
   ]
  },
  {
   "cell_type": "code",
   "execution_count": 27,
   "metadata": {},
   "outputs": [
    {
     "name": "stdout",
     "output_type": "stream",
     "text": [
      "Free apps in Apple Dataset:  3222\n"
     ]
    }
   ],
   "source": [
    "apple_free = []\n",
    "apple_paid = [] #let's create this list for paid apps, we may want to use it as an extension of this project if we deliver under budget :)\n",
    "\n",
    "for app in apple_english:\n",
    "    price = app [4]\n",
    "    if price == '0.0': #this string is different to the format in the Android dataset which is '0'\n",
    "        apple_free.append(app)\n",
    "    else:\n",
    "        apple_paid.append(app )\n",
    "\n",
    "print (\"Free apps in Apple Dataset: \", len(apple_free))"
   ]
  },
  {
   "cell_type": "markdown",
   "metadata": {},
   "source": [
    "### Data Cleaning Summary\n",
    "\n",
    "For the Android dataset:\n",
    "- Removing wrong entries\n",
    "- Removing duplicates.\n",
    "\n",
    "for both datasets:\n",
    "- Removing apps in languages other than english\n",
    "- Separating free-to-downloads from paid apps.\n",
    "\n",
    "We will be proceeding with the cleaned `android_free` and `apple_free` datasets which contain the required data for this analysis."
   ]
  },
  {
   "cell_type": "markdown",
   "metadata": {},
   "source": [
    "---"
   ]
  },
  {
   "cell_type": "markdown",
   "metadata": {},
   "source": [
    "## Data Analysis\n",
    "\n",
    "**Reiterating our Goal**: to determine the type of apps that are likely to be downloaded and engaged with by a high amount of users. The higher the number of users downloading an app and being exposed to in-app purchases we can assume  is linked to increased revenue from the app. \n",
    "\n",
    "While we will validate our concept by building an Android app first (Android has a 71.8% of the operating systems market), we also want to capture the potential revenue in the Apple app store (2nd in operating systems market share with 27.6%). [Statista, 2023](https://www.statista.com/statistics/272698/global-market-share-held-by-mobile-operating-systems-since-2009/#:~:text=Android%20maintained%20its%20position%20as,the%20mobile%20operating%20system%20market.)\n",
    "\n",
    "We will start by analysing the most popular app genres in each store. Then criteria such as user downloads or user reviews will be analysed to give a more granular breakdown of popularity of apps by genre as an indication of 'downloadability', or potential revenue."
   ]
  },
  {
   "cell_type": "markdown",
   "metadata": {},
   "source": [
    "We will build two functions we can use to analyze to generate frequency tables as the data in genres is categorical.\n",
    "\n",
    "- One function to generate frequency tables that show percentages for a column\n",
    "- One function to display the column percentages in a descending order"
   ]
  },
  {
   "cell_type": "code",
   "execution_count": 28,
   "metadata": {},
   "outputs": [],
   "source": [
    "#The first function - to genereate a frequency table that shows percentages for any column\n",
    "\n",
    "def freq_table (dataset, index):\n",
    "    freq_table = {}\n",
    "    total_apps = len (dataset) # calculating the total number of apps in the dataset\n",
    "    for row in dataset:\n",
    "        row_data_point = row[index]\n",
    "        if row_data_point in freq_table:\n",
    "            freq_table[row_data_point] +=1\n",
    "        else:\n",
    "            freq_table[row_data_point] =1\n",
    "    \n",
    "    for iteration_variable in freq_table: # returning frequency table as a percentage\n",
    "        freq_table [iteration_variable] /= total_apps\n",
    "        freq_table [iteration_variable] *= 100\n",
    "    \n",
    "    return freq_table"
   ]
  },
  {
   "cell_type": "markdown",
   "metadata": {},
   "source": [
    "Let's test our function to see if we get the desired outputs. "
   ]
  },
  {
   "cell_type": "code",
   "execution_count": 29,
   "metadata": {},
   "outputs": [
    {
     "name": "stdout",
     "output_type": "stream",
     "text": [
      "Frequency table for the 'Category' column in Android dataset\n"
     ]
    },
    {
     "data": {
      "text/plain": [
       "{'ART_AND_DESIGN': 0.6431230960171499,\n",
       " 'AUTO_AND_VEHICLES': 0.9251946293580051,\n",
       " 'BEAUTY': 0.5979916506826132,\n",
       " 'BOOKS_AND_REFERENCE': 2.1437436533904997,\n",
       " 'BUSINESS': 4.592124562789123,\n",
       " 'COMICS': 0.6205573733498815,\n",
       " 'COMMUNICATION': 3.2381812027530184,\n",
       " 'DATING': 1.8616721200496444,\n",
       " 'EDUCATION': 1.1621347173643235,\n",
       " 'ENTERTAINMENT': 0.9590432133589079,\n",
       " 'EVENTS': 0.7108202640189552,\n",
       " 'FINANCE': 3.7007785174320205,\n",
       " 'FOOD_AND_DRINK': 1.241114746699763,\n",
       " 'HEALTH_AND_FITNESS': 3.0802211440821394,\n",
       " 'HOUSE_AND_HOME': 0.8236488773552973,\n",
       " 'LIBRARIES_AND_DEMO': 0.9364774906916393,\n",
       " 'LIFESTYLE': 3.9038700214374367,\n",
       " 'GAME': 9.725826469592688,\n",
       " 'FAMILY': 18.898792733837304,\n",
       " 'MEDICAL': 3.5315355974275078,\n",
       " 'SOCIAL': 2.6627552747376737,\n",
       " 'SHOPPING': 2.245289405393208,\n",
       " 'PHOTOGRAPHY': 2.944826808078529,\n",
       " 'SPORTS': 3.396141261423897,\n",
       " 'TRAVEL_AND_LOCAL': 2.335552296062281,\n",
       " 'TOOLS': 8.462146000225657,\n",
       " 'PERSONALIZATION': 3.317161232088458,\n",
       " 'PRODUCTIVITY': 3.8925871601038025,\n",
       " 'PARENTING': 0.6544059573507841,\n",
       " 'WEATHER': 0.8010831546880289,\n",
       " 'VIDEO_PLAYERS': 1.7939749520478394,\n",
       " 'NEWS_AND_MAGAZINES': 2.798149610741284,\n",
       " 'MAPS_AND_NAVIGATION': 1.399074805370642}"
      ]
     },
     "execution_count": 29,
     "metadata": {},
     "output_type": "execute_result"
    }
   ],
   "source": [
    "print (\"Frequency table for the 'Category' column in Android dataset\")\n",
    "freq_table (android_free,1)"
   ]
  },
  {
   "cell_type": "code",
   "execution_count": 30,
   "metadata": {},
   "outputs": [],
   "source": [
    "#The second function - displaying the column percentages in descending order\n",
    "\n",
    "def display_table(dataset, index):\n",
    "    table = freq_table(dataset, index) #using the function we created above\n",
    "    table_display = [] \n",
    "    for key in table:\n",
    "        key_val_as_tuple = (table[key], key) # transforming the frequency table into a list of tuples as the sorted() function works better with this variably type than with dictionaries, as only dictionary key are sorted\n",
    "        table_display.append(key_val_as_tuple)\n",
    "\n",
    "    table_sorted = sorted(table_display, reverse = True) #using the reverse parameter control\n",
    "    for entry in table_sorted:\n",
    "        print(entry[1], ':', entry[0]) #printing in descending order (largest to smallest value)\n",
    "        \n",
    "\n",
    "# We can combine these functions into a single cell also"
   ]
  },
  {
   "cell_type": "markdown",
   "metadata": {},
   "source": [
    "Let's refresh our minds on the columns that we wan to generate frequency tables for:\n",
    "\n",
    "- `prime_genre` in the Apple dataset, index [11]\n",
    "- `Category` in the Android Dataset, index [1]\n",
    "- `Genre` in the Android Dataset, index [9]"
   ]
  },
  {
   "cell_type": "markdown",
   "metadata": {},
   "source": [
    "### Apple Apps Genre Frequency Analysis"
   ]
  },
  {
   "cell_type": "code",
   "execution_count": 31,
   "metadata": {},
   "outputs": [
    {
     "name": "stdout",
     "output_type": "stream",
     "text": [
      "Frequency table for the `prime_genre` column in the Apple dataset\n",
      "\n",
      "\n",
      "Games : 58.16263190564867\n",
      "Entertainment : 7.883302296710118\n",
      "Photo & Video : 4.9658597144630665\n",
      "Education : 3.662321539416512\n",
      "Social Networking : 3.2898820608317814\n",
      "Shopping : 2.60707635009311\n",
      "Utilities : 2.5139664804469275\n",
      "Sports : 2.1415270018621975\n",
      "Music : 2.0484171322160147\n",
      "Health & Fitness : 2.0173805090006205\n",
      "Productivity : 1.7380509000620732\n",
      "Lifestyle : 1.5828677839851024\n",
      "News : 1.3345747982619491\n",
      "Travel : 1.2414649286157666\n",
      "Finance : 1.1173184357541899\n",
      "Weather : 0.8690254500310366\n",
      "Food & Drink : 0.8069522036002483\n",
      "Reference : 0.5586592178770949\n",
      "Business : 0.5276225946617008\n",
      "Book : 0.4345127250155183\n",
      "Navigation : 0.186219739292365\n",
      "Medical : 0.186219739292365\n",
      "Catalogs : 0.12414649286157665\n"
     ]
    }
   ],
   "source": [
    "print (\"Frequency table for the `prime_genre` column in the Apple dataset\")\n",
    "print ('\\n')\n",
    "display_table (apple_free,11)"
   ]
  },
  {
   "cell_type": "markdown",
   "metadata": {},
   "source": [
    "Observations:\n",
    "- The most common genre is `Games`, making up 58% of apps in this App Store Dataset\n",
    "- The second-most common genre is `Entertainment`, consisting nearly 8% & of the Dataset\n",
    "    - This means over 66% of the App Store apps are dedicated to entertainment purposes\n",
    "- The 3rd category is `Photo & Video`, with just under 5% of the apps in the dataset. Media creation is an industry with which the Apple brand is generally associated with, which is represented here.\n",
    "- The 4th category is `Edudcation`, making up 3.7% of apps in this Dataset.\n",
    "\n",
    "In General\n",
    "- Apps in the Apple App Store tend to be designed for entertainment purposes as opposed to practical purposes. \n",
    "- The top 4 categories account for 74.7 % of the App store, meaning apps beyond those 4 categories may not be popular or have a strong business case to develop.\n",
    "\n",
    "Recommendation\n",
    "- Based on these observations it would recommended to develop an entertainment-oriented app. This recommendation however is based on genre frequency data, which may not be indicative of popularity, 'downloadability', and ultimately profitability.\n",
    "\n",
    "\n",
    "Lastly, we should also consider that this dataset was first put together in 2017, and the proportion of each app genre to the total will likely have changed since then, when considering all apps in the Apple store. There have been additions to the Apple hardware ecosystem such as the 'Apple Watch' and 'Apple Pen'(both first released in 2015). These may have incentivised companies or development teams to create apps that are compatible and can make use of this hardware. It took the Apple Watch 4 years to reach 50 million users, but in the next two years, adoption increased to 100 million users, indicating an accelerated adoption rate ([Statista, 2021](https://www.statista.com/statistics/1221051/apple-watch-users-worldwide/)). The adoption new hardware may have led to an increase in `Health & Fitness` or `Medical` apps being developed due to the ability to track health-related data. Furthermore, apps which use short nudging and notifications that can be displayed on the Apple Watch's screen such as `Education`, `Finance`, and `News` may have also gathered increased interest from development teams since 2017. "
   ]
  },
  {
   "cell_type": "markdown",
   "metadata": {},
   "source": [
    "### Android Apps Genre Frequency Analysis"
   ]
  },
  {
   "cell_type": "code",
   "execution_count": 32,
   "metadata": {
    "scrolled": true
   },
   "outputs": [
    {
     "name": "stdout",
     "output_type": "stream",
     "text": [
      "Frequency table for the 'Category' column in the Android dataset\n",
      "\n",
      "\n",
      "FAMILY : 18.898792733837304\n",
      "GAME : 9.725826469592688\n",
      "TOOLS : 8.462146000225657\n",
      "BUSINESS : 4.592124562789123\n",
      "LIFESTYLE : 3.9038700214374367\n",
      "PRODUCTIVITY : 3.8925871601038025\n",
      "FINANCE : 3.7007785174320205\n",
      "MEDICAL : 3.5315355974275078\n",
      "SPORTS : 3.396141261423897\n",
      "PERSONALIZATION : 3.317161232088458\n",
      "COMMUNICATION : 3.2381812027530184\n",
      "HEALTH_AND_FITNESS : 3.0802211440821394\n",
      "PHOTOGRAPHY : 2.944826808078529\n",
      "NEWS_AND_MAGAZINES : 2.798149610741284\n",
      "SOCIAL : 2.6627552747376737\n",
      "TRAVEL_AND_LOCAL : 2.335552296062281\n",
      "SHOPPING : 2.245289405393208\n",
      "BOOKS_AND_REFERENCE : 2.1437436533904997\n",
      "DATING : 1.8616721200496444\n",
      "VIDEO_PLAYERS : 1.7939749520478394\n",
      "MAPS_AND_NAVIGATION : 1.399074805370642\n",
      "FOOD_AND_DRINK : 1.241114746699763\n",
      "EDUCATION : 1.1621347173643235\n",
      "ENTERTAINMENT : 0.9590432133589079\n",
      "LIBRARIES_AND_DEMO : 0.9364774906916393\n",
      "AUTO_AND_VEHICLES : 0.9251946293580051\n",
      "HOUSE_AND_HOME : 0.8236488773552973\n",
      "WEATHER : 0.8010831546880289\n",
      "EVENTS : 0.7108202640189552\n",
      "PARENTING : 0.6544059573507841\n",
      "ART_AND_DESIGN : 0.6431230960171499\n",
      "COMICS : 0.6205573733498815\n",
      "BEAUTY : 0.5979916506826132\n"
     ]
    }
   ],
   "source": [
    "print (\"Frequency table for the 'Category' column in the Android dataset\")\n",
    "print ('\\n')\n",
    "display_table (android_free,1)"
   ]
  },
  {
   "cell_type": "markdown",
   "metadata": {},
   "source": [
    "Observations:\n",
    "- `FAMILY`is the category with most apps, with 18.9 %.\n",
    "    - It is not evident what type of apps are in thefamily category. Per a couple of research, it can be deduced that these are apps for kids & mostly games as it it englobes categories such as: Ages 5 & under,Ages 6-8, Ages 9 & up, Action & Adventure, Brain Games, Creativity, Education, Music & Video, Pretend Play. ([Song, 2015](https://www.lowyat.net/2015/64130/googles-new-family-category-now-on-play-store-makes-it-easier-to-discover-apps-for-kids/#:~:text=Just%20like%20Play%20Store%20for,for%20children%20of%20different%20age.))\n",
    "- `GAME` is the second-most prevalent category with 9.7% of apps of this type.\n",
    "- `TOOLS` is the 3rd most present category with 8.5& of apps\n",
    "- `BUSINESS` is the 4th category on the list in terms of app presence  with 4.6&\n",
    "    - These last two categories show that productivity and practical apps in the Android App store as opposed to strong representation of the entertainment-focused apps.\n",
    "\n",
    "\n",
    "In General\n",
    "- The apps in the Android Dataset tend to be spread more evenly between entertainment and practical purposes, but there is still a significant business case for entertainment-focused apps. There is room for other genres as well.\n",
    "- The top 4 categories are less concentrated - making up 41.8% of the Android Dataset, compared to 74.7 in the Apple Dataset. This may be a result of our sample data skewing the data. However one can hypothesize that the Android App store may offer more flexibility in the genre of app to be developed which can lead to downloads, popularity, and profitability. It does not necessarily need to be belong to those top 4 categories. \n",
    " \n",
    "\n",
    "Recommendation\n",
    "- Based on these observations there is an equal business case for developing both an entertainment-focused and productivity-focused app. Perhaps a blend of the two?\n",
    "\n",
    "Similarly to our note on the Apple Apps Dataset, the landscape of the Android App Store will likely have changed since 2018. Furthermore, the Android ecosystem is more open source compared to Apple's and therefore will likely attract development teams which may feel restricted by Apple's guidelines and approval processes for app development. This will therefore affect the composition of the Android Store."
   ]
  },
  {
   "cell_type": "markdown",
   "metadata": {},
   "source": [
    "### The Android `Genre` Column"
   ]
  },
  {
   "cell_type": "code",
   "execution_count": 33,
   "metadata": {},
   "outputs": [
    {
     "name": "stdout",
     "output_type": "stream",
     "text": [
      "Frequency table for the 'Category' column in the Android dataset\n",
      "\n",
      "\n",
      "Tools : 8.450863138892023\n",
      "Entertainment : 6.070179397495204\n",
      "Education : 5.348076272142616\n",
      "Business : 4.592124562789123\n",
      "Productivity : 3.8925871601038025\n",
      "Lifestyle : 3.8925871601038025\n",
      "Finance : 3.7007785174320205\n",
      "Medical : 3.5315355974275078\n",
      "Sports : 3.463838429425702\n",
      "Personalization : 3.317161232088458\n",
      "Communication : 3.2381812027530184\n",
      "Action : 3.102786866749408\n",
      "Health & Fitness : 3.0802211440821394\n",
      "Photography : 2.944826808078529\n",
      "News & Magazines : 2.798149610741284\n",
      "Social : 2.6627552747376737\n",
      "Travel & Local : 2.324269434728647\n",
      "Shopping : 2.245289405393208\n",
      "Books & Reference : 2.1437436533904997\n",
      "Simulation : 2.042197901387792\n",
      "Dating : 1.8616721200496444\n",
      "Arcade : 1.8503892587160102\n",
      "Video Players & Editors : 1.771409229380571\n",
      "Casual : 1.7601263680469368\n",
      "Maps & Navigation : 1.399074805370642\n",
      "Food & Drink : 1.241114746699763\n",
      "Puzzle : 1.128286133363421\n",
      "Racing : 0.9928917973598104\n",
      "Role Playing : 0.9364774906916393\n",
      "Libraries & Demo : 0.9364774906916393\n",
      "Auto & Vehicles : 0.9251946293580051\n",
      "Strategy : 0.9026289066907368\n",
      "House & Home : 0.8236488773552973\n",
      "Weather : 0.8010831546880289\n",
      "Events : 0.7108202640189552\n",
      "Adventure : 0.6769716800180525\n",
      "Comics : 0.6092745120162473\n",
      "Beauty : 0.5979916506826132\n",
      "Art & Design : 0.5979916506826132\n",
      "Parenting : 0.4964458986799052\n",
      "Card : 0.4513144533453684\n",
      "Casino : 0.42874873067809993\n",
      "Trivia : 0.4174658693444658\n",
      "Educational;Education : 0.3949001466771973\n",
      "Board : 0.38361728534356315\n",
      "Educational : 0.37233442400992894\n",
      "Education;Education : 0.33848584000902626\n",
      "Word : 0.25950581067358686\n",
      "Casual;Pretend Play : 0.2369400880063184\n",
      "Music : 0.20309150400541578\n",
      "Racing;Action & Adventure : 0.16924292000451313\n",
      "Puzzle;Brain Games : 0.16924292000451313\n",
      "Entertainment;Music & Video : 0.16924292000451313\n",
      "Casual;Brain Games : 0.1353943360036105\n",
      "Casual;Action & Adventure : 0.1353943360036105\n",
      "Arcade;Action & Adventure : 0.1241114746699763\n",
      "Action;Action & Adventure : 0.10154575200270789\n",
      "Educational;Pretend Play : 0.09026289066907367\n",
      "Simulation;Action & Adventure : 0.07898002933543948\n",
      "Parenting;Education : 0.07898002933543948\n",
      "Entertainment;Brain Games : 0.07898002933543948\n",
      "Board;Brain Games : 0.07898002933543948\n",
      "Parenting;Music & Video : 0.06769716800180525\n",
      "Educational;Brain Games : 0.06769716800180525\n",
      "Casual;Creativity : 0.06769716800180525\n",
      "Art & Design;Creativity : 0.06769716800180525\n",
      "Education;Pretend Play : 0.05641430666817105\n",
      "Role Playing;Pretend Play : 0.045131445334536835\n",
      "Education;Creativity : 0.045131445334536835\n",
      "Role Playing;Action & Adventure : 0.033848584000902626\n",
      "Puzzle;Action & Adventure : 0.033848584000902626\n",
      "Entertainment;Creativity : 0.033848584000902626\n",
      "Entertainment;Action & Adventure : 0.033848584000902626\n",
      "Educational;Creativity : 0.033848584000902626\n",
      "Educational;Action & Adventure : 0.033848584000902626\n",
      "Education;Music & Video : 0.033848584000902626\n",
      "Education;Brain Games : 0.033848584000902626\n",
      "Education;Action & Adventure : 0.033848584000902626\n",
      "Adventure;Action & Adventure : 0.033848584000902626\n",
      "Video Players & Editors;Music & Video : 0.022565722667268417\n",
      "Sports;Action & Adventure : 0.022565722667268417\n",
      "Simulation;Pretend Play : 0.022565722667268417\n",
      "Puzzle;Creativity : 0.022565722667268417\n",
      "Music;Music & Video : 0.022565722667268417\n",
      "Entertainment;Pretend Play : 0.022565722667268417\n",
      "Casual;Education : 0.022565722667268417\n",
      "Board;Action & Adventure : 0.022565722667268417\n",
      "Video Players & Editors;Creativity : 0.011282861333634209\n",
      "Trivia;Education : 0.011282861333634209\n",
      "Travel & Local;Action & Adventure : 0.011282861333634209\n",
      "Tools;Education : 0.011282861333634209\n",
      "Strategy;Education : 0.011282861333634209\n",
      "Strategy;Creativity : 0.011282861333634209\n",
      "Strategy;Action & Adventure : 0.011282861333634209\n",
      "Simulation;Education : 0.011282861333634209\n",
      "Role Playing;Brain Games : 0.011282861333634209\n",
      "Racing;Pretend Play : 0.011282861333634209\n",
      "Puzzle;Education : 0.011282861333634209\n",
      "Parenting;Brain Games : 0.011282861333634209\n",
      "Music & Audio;Music & Video : 0.011282861333634209\n",
      "Lifestyle;Pretend Play : 0.011282861333634209\n",
      "Lifestyle;Education : 0.011282861333634209\n",
      "Health & Fitness;Education : 0.011282861333634209\n",
      "Health & Fitness;Action & Adventure : 0.011282861333634209\n",
      "Entertainment;Education : 0.011282861333634209\n",
      "Communication;Creativity : 0.011282861333634209\n",
      "Comics;Creativity : 0.011282861333634209\n",
      "Casual;Music & Video : 0.011282861333634209\n",
      "Card;Action & Adventure : 0.011282861333634209\n",
      "Books & Reference;Education : 0.011282861333634209\n",
      "Art & Design;Pretend Play : 0.011282861333634209\n",
      "Art & Design;Action & Adventure : 0.011282861333634209\n",
      "Arcade;Pretend Play : 0.011282861333634209\n",
      "Adventure;Education : 0.011282861333634209\n"
     ]
    }
   ],
   "source": [
    "print (\"Frequency table for the 'Category' column in the Android dataset\")\n",
    "print ('\\n')\n",
    "display_table (android_free,9)"
   ]
  },
  {
   "cell_type": "markdown",
   "metadata": {},
   "source": [
    "As mentioned in our introduction of the datasets and the column descriptions, `Genre` is a column that can have more than one category assigned per 'App'. We can observe that this criterion offers a more granular insight into how the apps are subdivided within each category. It is not within the scope of our project to be so granular, so we will not work with this column further. \n",
    "\n",
    "It is interesting to note that without the granularity; `TOOLS`, `EDUCATION`, `BUSINESS`, and `PRODUCTIVITY` are all in the top 5 of app types by frequency.\n"
   ]
  },
  {
   "cell_type": "markdown",
   "metadata": {},
   "source": [
    "### Conclusions - Apps by Genre in the Datasets\n",
    "\n",
    "These statistics about genre are useful, but paint an incomplete picture of which app genre would be ideal to prototype, as they doesn't consider the amount of downloads per genre, or the user ratings per genre. \n",
    "\n",
    "Without data on user downloads and user satisfaction which may be a better indication of potential in-app purchases, making recommendations using this data may be misleading.\n",
    "\n",
    "We should take into account the number of downloads per genre to get a more clear idea of which apps are most downloaded. This is of interest to us as the more downloads we have, the higher the total number of potential engagements within our app will occur. While uur aim is to to get as many users as possible to use our app, we cannot predict the engagement rate in our app. \n",
    "\n",
    "One way to find out what genres are the most downloaded/popular (have the most users) is to calculate the average number of installs for each app genre. For the Google Play data set, we can find this information in the `Installs` column, but this information is missing for the App Store data set. As a workaround, we'll use the total number of user ratings for that app as a proxy, which we can find in the `'rating_count_tot'` column."
   ]
  },
  {
   "cell_type": "markdown",
   "metadata": {},
   "source": [
    "## In the Apple App Store"
   ]
  },
  {
   "cell_type": "code",
   "execution_count": 34,
   "metadata": {},
   "outputs": [
    {
     "name": "stdout",
     "output_type": "stream",
     "text": [
      "['id', 'track_name', 'size_bytes', 'currency', 'price', 'rating_count_tot', 'rating_count_ver', 'user_rating', 'user_rating_ver', 'ver', 'cont_rating', 'prime_genre', 'sup_devices.num', 'ipadSc_urls.num', 'lang.num', 'vpp_lic']\n",
      "['284882215', 'Facebook', '389879808', 'USD', '0.0', '2974676', '212', '3.5', '3.5', '95.0', '4+', 'Social Networking', '37', '1', '29', '1']\n",
      "\n",
      "\n",
      "['389801252', 'Instagram', '113954816', 'USD', '0.0', '2161558', '1289', '4.5', '4.0', '10.23', '12+', 'Photo & Video', '37', '0', '29', '1']\n",
      "\n",
      "\n",
      "['529479190', 'Clash of Clans', '116476928', 'USD', '0.0', '2130805', '579', '4.5', '4.5', '9.24.12', '9+', 'Games', '38', '5', '18', '1']\n",
      "\n",
      "\n",
      "['420009108', 'Temple Run', '65921024', 'USD', '0.0', '1724546', '3842', '4.5', '4.0', '1.6.2', '9+', 'Games', '40', '5', '1', '1']\n",
      "\n",
      "\n",
      "['284035177', 'Pandora - Music & Radio', '130242560', 'USD', '0.0', '1126879', '3594', '4.0', '4.5', '8.4.1', '12+', 'Music', '37', '4', '1', '1']\n",
      "\n",
      "\n"
     ]
    }
   ],
   "source": [
    "print (apple_apps_1[0])\n",
    "for row in apple_free [0:5]:\n",
    "    print (row)\n",
    "    print ('\\n')"
   ]
  },
  {
   "cell_type": "code",
   "execution_count": 35,
   "metadata": {},
   "outputs": [
    {
     "name": "stdout",
     "output_type": "stream",
     "text": [
      "Average download per category\n",
      "\n",
      "\n",
      "Social Networking :  71548.34905660378\n",
      "Photo & Video :  28441.54375\n",
      "Games :  22788.6696905016\n",
      "Music :  57326.530303030304\n",
      "Reference :  74942.11111111111\n",
      "Health & Fitness :  23298.015384615384\n",
      "Weather :  52279.892857142855\n",
      "Utilities :  18684.456790123455\n",
      "Travel :  28243.8\n",
      "Shopping :  26919.690476190477\n",
      "News :  21248.023255813954\n",
      "Navigation :  86090.33333333333\n",
      "Lifestyle :  16485.764705882353\n",
      "Entertainment :  14029.830708661417\n",
      "Food & Drink :  33333.92307692308\n",
      "Sports :  23008.898550724636\n",
      "Book :  39758.5\n",
      "Finance :  31467.944444444445\n",
      "Education :  7003.983050847458\n",
      "Productivity :  21028.410714285714\n",
      "Business :  7491.117647058823\n",
      "Catalogs :  4004.0\n",
      "Medical :  612.0\n"
     ]
    }
   ],
   "source": [
    "def freq_table_for_genre (dataset, index): #creating new function that does not give freq table as percentage\n",
    "    freq_table = {}\n",
    "    total_apps = len (dataset) # calculating the total number of apps in the dataset\n",
    "    for row in dataset:\n",
    "        row_data_point = row[index]\n",
    "        if row_data_point in freq_table:\n",
    "            freq_table[row_data_point] +=1\n",
    "        else:\n",
    "            freq_table[row_data_point] =1\n",
    "    \n",
    "    return freq_table\n",
    "\n",
    "print ('Average download per category') # for readability\n",
    "print ('\\n')\n",
    "genres_apple = freq_table_for_genre (apple_free,11) # frequency table for the prime_genre column \n",
    "\n",
    "for genre in genres_apple: # looping over our frequence table\n",
    "    total = 0 # variable will store the sum of user ratings\n",
    "    len_genre = 0 # variable will store the number of apps specific to each genre\n",
    "    for app in apple_free:\n",
    "        genre_app = app [11]\n",
    "        user_rating = float (app[5]) # we are looking for rating count for all versions \"rating_count_tot\"\n",
    "        if genre_app == genre:\n",
    "            total += user_rating # add up number of user ratings to total variable\n",
    "            len_genre += 1 # incrementing the len_genre (total number of apps to specific genere) by 1\n",
    "    average = total/len_genre\n",
    "    print (genre,': ',average)\n",
    " "
   ]
  },
  {
   "cell_type": "markdown",
   "metadata": {},
   "source": [
    "Observations:\n",
    "- Based on the data, we can see that the highest number of downloads per genre is by far the `Navigation`. \n",
    "    - This is likely due to the limited amounts of Navigations apps people use: Apple Maps, Google Maps, Waze, City Mapper, etc. Some of which may come pre-installed which would increase average numbers. \n",
    "- 2nd - `Reference`, the category with the second most downloads per app. \n",
    "- 3rd - `Social Networking`\n",
    "    - This is likely due to the limited amounts of social media apps people use: Facebook, Instagram, Snapchat, Messenger, WhatsApp. Some of which may come pre-installed which would increase average numbers. \n",
    "- 4th - `Music`\n",
    "- 5th - `Weather`\n",
    "\n",
    "\n",
    "It is worth making a deep dive into the `Reference` category as it is unlikely we will create an app for other categories due to their high level of concentration and saturation. "
   ]
  },
  {
   "cell_type": "code",
   "execution_count": 36,
   "metadata": {
    "scrolled": false
   },
   "outputs": [
    {
     "name": "stdout",
     "output_type": "stream",
     "text": [
      "Bible : 985920\n",
      "Dictionary.com Dictionary & Thesaurus : 200047\n",
      "Dictionary.com Dictionary & Thesaurus for iPad : 54175\n",
      "Google Translate : 26786\n",
      "Muslim Pro: Ramadan 2017 Prayer Times, Azan, Quran : 18418\n",
      "New Furniture Mods - Pocket Wiki & Game Tools for Minecraft PC Edition : 17588\n",
      "Merriam-Webster Dictionary : 16849\n",
      "Night Sky : 12122\n",
      "City Maps for Minecraft PE - The Best Maps for Minecraft Pocket Edition (MCPE) : 8535\n",
      "LUCKY BLOCK MOD ™ for Minecraft PC Edition - The Best Pocket Wiki & Mods Installer Tools : 4693\n",
      "GUNS MODS for Minecraft PC Edition - Mods Tools : 1497\n",
      "Guides for Pokémon GO - Pokemon GO News and Cheats : 826\n",
      "WWDC : 762\n",
      "Horror Maps for Minecraft PE - Download The Scariest Maps for Minecraft Pocket Edition (MCPE) Free : 718\n",
      "VPN Express : 14\n",
      "Real Bike Traffic Rider Virtual Reality Glasses : 8\n",
      "教えて!goo : 0\n",
      "Jishokun-Japanese English Dictionary & Translator : 0\n"
     ]
    }
   ],
   "source": [
    "#using a for loop to create a list of the apps in a certain category and displaying the app name with the number of downloads\n",
    "\n",
    "for app in apple_free:\n",
    "    if app [11] == 'Reference': #selecting the category\n",
    "        print (app[1],':', app[5]) #printing the app name and the downloads for the app\n",
    "        "
   ]
  },
  {
   "cell_type": "markdown",
   "metadata": {},
   "source": [
    "We can infer from the app names in the `Reference` category that these apps are mostly associated with reference books. Let us investigate this 'parallel' category - `Book`. "
   ]
  },
  {
   "cell_type": "code",
   "execution_count": 37,
   "metadata": {},
   "outputs": [
    {
     "name": "stdout",
     "output_type": "stream",
     "text": [
      "Kindle – Read eBooks, Magazines & Textbooks : 252076\n",
      "Audible – audio books, original series & podcasts : 105274\n",
      "Color Therapy Adult Coloring Book for Adults : 84062\n",
      "OverDrive – Library eBooks and Audiobooks : 65450\n",
      "HOOKED - Chat Stories : 47829\n",
      "BookShout: Read eBooks & Track Your Reading Goals : 879\n",
      "Dr. Seuss Treasury — 50 best kids books : 451\n",
      "Green Riding Hood : 392\n",
      "Weirdwood Manor : 197\n",
      "MangaZERO - comic reader : 9\n",
      "ikouhoushi : 0\n",
      "MangaTiara - love comic reader : 0\n",
      "謎解き : 0\n",
      "謎解き2016 : 0\n"
     ]
    }
   ],
   "source": [
    "for app in apple_free:\n",
    "    if app [11] == 'Book':\n",
    "        print (app[1],':', app[5])"
   ]
  },
  {
   "cell_type": "markdown",
   "metadata": {},
   "source": [
    "While the `Book` category is concentrated around `Kindle` & `Audible` which are e-reading and audiobook platforms,  the `Color Therapy Adult Coloring Book for Adults` has a significant amount of downloads by our metrics. This shows there may be potential for children or family-focused app which provide access to book-based content in a playful way. It could be similar to a Kindle interface with a library of books, with added gamification elements such as colouring, quizzes (for kids), and quotes, analysis, key points (for adults). This would enable us to tap into both the children's and adult markets simultaneously - increasing our total potential number of users.\n",
    "\n",
    "Let us turn our attention to the Android Dataset and look at most the downloaded types of apps and where there may be potential. "
   ]
  },
  {
   "cell_type": "markdown",
   "metadata": {},
   "source": [
    "## In the Android App Store \n",
    "\n",
    "The `Installs` column which has data about downloads is categorical in the Android dataset."
   ]
  },
  {
   "cell_type": "code",
   "execution_count": 38,
   "metadata": {},
   "outputs": [
    {
     "name": "stdout",
     "output_type": "stream",
     "text": [
      "1,000,000+ : 15.728308699086089\n",
      "100,000+ : 11.55365000564143\n",
      "10,000,000+ : 10.549475346947986\n",
      "10,000+ : 10.199706645605326\n",
      "1,000+ : 8.394448832223853\n",
      "100+ : 6.916393997517771\n",
      "5,000,000+ : 6.826131106848697\n",
      "500,000+ : 5.562450637481666\n",
      "50,000+ : 4.772650344127271\n",
      "5,000+ : 4.513144533453684\n",
      "10+ : 3.542818458761142\n",
      "500+ : 3.2494640640866526\n",
      "50,000,000+ : 2.3017037120613786\n",
      "100,000,000+ : 2.1324607920568655\n",
      "50+ : 1.9180864267178157\n",
      "5+ : 0.7898002933543946\n",
      "1+ : 0.5077287600135394\n",
      "500,000,000+ : 0.270788672007221\n",
      "1,000,000,000+ : 0.2256572266726842\n",
      "0+ : 0.045131445334536835\n"
     ]
    }
   ],
   "source": [
    "display_table (android_free, 5)"
   ]
  },
  {
   "cell_type": "markdown",
   "metadata": {},
   "source": [
    "In order to generate a frequency table for each category, we will treat each 'tranche' (ex. `1,000,000+` or `100,000+`) as the **actual** number of downloads. This won't be accurate, but it will give us an estimate for which apps are most downloaded, the metric we are after."
   ]
  },
  {
   "cell_type": "code",
   "execution_count": 39,
   "metadata": {},
   "outputs": [
    {
     "data": {
      "text/plain": [
       "['App',\n",
       " 'Category',\n",
       " 'Rating',\n",
       " 'Reviews',\n",
       " 'Size',\n",
       " 'Installs',\n",
       " 'Type',\n",
       " 'Price',\n",
       " 'Content Rating',\n",
       " 'Genres',\n",
       " 'Last Updated',\n",
       " 'Current Ver',\n",
       " 'Android Ver']"
      ]
     },
     "execution_count": 39,
     "metadata": {},
     "output_type": "execute_result"
    }
   ],
   "source": [
    "android_apps_1[0]"
   ]
  },
  {
   "cell_type": "code",
   "execution_count": 40,
   "metadata": {},
   "outputs": [
    {
     "name": "stdout",
     "output_type": "stream",
     "text": [
      "Average download per category\n",
      "ART_AND_DESIGN : 1986336\n",
      "AUTO_AND_VEHICLES : 647318\n",
      "BEAUTY : 513152\n",
      "BOOKS_AND_REFERENCE : 8767812\n",
      "BUSINESS : 1712291\n",
      "COMICS : 817658\n",
      "COMMUNICATION : 38456120\n",
      "DATING : 854029\n",
      "EDUCATION : 1833496\n",
      "ENTERTAINMENT : 11640706\n",
      "EVENTS : 253543\n",
      "FINANCE : 1387693\n",
      "FOOD_AND_DRINK : 1924898\n",
      "HEALTH_AND_FITNESS : 4188822\n",
      "HOUSE_AND_HOME : 1331541\n",
      "LIBRARIES_AND_DEMO : 638504\n",
      "LIFESTYLE : 1437817\n",
      "GAME : 15588016\n",
      "FAMILY : 3697849\n",
      "MEDICAL : 120551\n",
      "SOCIAL : 23253653\n",
      "SHOPPING : 7036878\n",
      "PHOTOGRAPHY : 17840111\n",
      "SPORTS : 3638641\n",
      "TRAVEL_AND_LOCAL : 13984078\n",
      "TOOLS : 10801392\n",
      "PERSONALIZATION : 5201483\n",
      "PRODUCTIVITY : 16787332\n",
      "PARENTING : 542604\n",
      "WEATHER : 5074487\n",
      "VIDEO_PLAYERS : 24727873\n",
      "NEWS_AND_MAGAZINES : 9549179\n",
      "MAPS_AND_NAVIGATION : 4056942\n"
     ]
    }
   ],
   "source": [
    "print ('Average download per category') # for readability\n",
    "categories_android = freq_table (android_free,1)\n",
    "\n",
    "for category in categories_android: # looping over our frequency table\n",
    "    total = 0 # variable will store the sum of 'Installs' tranches\n",
    "    len_category = 0 # variable will store the number of apps specific to each genre\n",
    "    for app in android_free:\n",
    "        app_category = app [1] # the app genre is the 'Category' column index[1]\n",
    "        if app_category == category:\n",
    "            installs = app[5] # we are looking for the 'Installs'  \n",
    "            installs = installs.replace('+','') # removing the '+' at the end of the string\n",
    "            installs = installs.replace(',','') # removing the ',' at the middle(s) of the string\n",
    "            installs = float (installs) # converting the 'Installs' tranche to a float \n",
    "            total += installs +1 # add up installs as a float\n",
    "            len_category += 1 # incrementing the len_genre (total number of apps to specific genere) by 1\n",
    "    average = int(total/len_category) # converting to an integer for readability\n",
    "    print (category,':', average)"
   ]
  },
  {
   "cell_type": "markdown",
   "metadata": {},
   "source": [
    "**Observations**\n",
    "- `SOCIAL` dominates the average downloads with `23,253,653` per app\n",
    "    - this like likely to a similar phenomenon with the Apple Dataset where a few of the popular social media apps are downloaded by most people.\n",
    "- `COMMUNICATION` h `38,456,120`\n",
    "- `GAME` is also high with `15,588,016` per app\n",
    "- `BOOKS_AND_REFERENCE` has an intriguingly high `8,767,812` downloads per app for us to enquire this category in the Android store too.\n",
    "- `EDUCATION` has a moderately high `1,833,496` downloads per app\n",
    "- `FAMILY`, the most present app type by genre has only `3,697,849` downloads per app, showing that this app genre is likely saturated\n",
    "\n",
    "Let's analyze the `BOOKS_AND_REFERENCE` category further by analysing the top downloaded apps and what they are. Based on our analysis of the iOs app store data, we may see a similar opportunity. It is wor"
   ]
  },
  {
   "cell_type": "code",
   "execution_count": 41,
   "metadata": {},
   "outputs": [
    {
     "name": "stdout",
     "output_type": "stream",
     "text": [
      "E-Book Read - Read Book for free : 50,000+\n",
      "Download free book with green book : 100,000+\n",
      "Wikipedia : 10,000,000+\n",
      "Cool Reader : 10,000,000+\n",
      "Free Panda Radio Music : 100,000+\n",
      "Book store : 1,000,000+\n",
      "FBReader: Favorite Book Reader : 10,000,000+\n",
      "English Grammar Complete Handbook : 500,000+\n",
      "Free Books - Spirit Fanfiction and Stories : 1,000,000+\n",
      "Google Play Books : 1,000,000,000+\n",
      "AlReader -any text book reader : 5,000,000+\n",
      "Offline English Dictionary : 100,000+\n",
      "Offline: English to Tagalog Dictionary : 500,000+\n",
      "FamilySearch Tree : 1,000,000+\n",
      "Cloud of Books : 1,000,000+\n",
      "Recipes of Prophetic Medicine for free : 500,000+\n",
      "ReadEra – free ebook reader : 1,000,000+\n",
      "Anonymous caller detection : 10,000+\n",
      "Ebook Reader : 5,000,000+\n",
      "Litnet - E-books : 100,000+\n",
      "Read books online : 5,000,000+\n",
      "English to Urdu Dictionary : 500,000+\n",
      "eBoox: book reader fb2 epub zip : 1,000,000+\n",
      "English Persian Dictionary : 500,000+\n",
      "Flybook : 500,000+\n",
      "All Maths Formulas : 1,000,000+\n",
      "Ancestry : 5,000,000+\n",
      "HTC Help : 10,000,000+\n",
      "English translation from Bengali : 100,000+\n",
      "Pdf Book Download - Read Pdf Book : 100,000+\n",
      "Free Book Reader : 100,000+\n",
      "eBoox new: Reader for fb2 epub zip books : 50,000+\n",
      "Only 30 days in English, the guideline is guaranteed : 500,000+\n",
      "Moon+ Reader : 10,000,000+\n",
      "SH-02J Owner's Manual (Android 8.0) : 50,000+\n",
      "English-Myanmar Dictionary : 1,000,000+\n",
      "Golden Dictionary (EN-AR) : 1,000,000+\n",
      "All Language Translator Free : 1,000,000+\n",
      "Azpen eReader : 500,000+\n",
      "URBANO V 02 instruction manual : 100,000+\n",
      "Bible : 100,000,000+\n",
      "C Programs and Reference : 50,000+\n",
      "C Offline Tutorial : 1,000+\n",
      "C Programs Handbook : 50,000+\n",
      "Amazon Kindle : 100,000,000+\n",
      "Aab e Hayat Full Novel : 100,000+\n",
      "Aldiko Book Reader : 10,000,000+\n",
      "Google I/O 2018 : 500,000+\n",
      "R Language Reference Guide : 10,000+\n",
      "Learn R Programming Full : 5,000+\n",
      "R Programing Offline Tutorial : 1,000+\n",
      "Guide for R Programming : 5+\n",
      "Learn R Programming : 10+\n",
      "R Quick Reference Big Data : 1,000+\n",
      "V Made : 100,000+\n",
      "Wattpad 📖 Free Books : 100,000,000+\n",
      "Dictionary - WordWeb : 5,000,000+\n",
      "Guide (for X-MEN) : 100,000+\n",
      "AC Air condition Troubleshoot,Repair,Maintenance : 5,000+\n",
      "AE Bulletins : 1,000+\n",
      "Ae Allah na Dai (Rasa) : 10,000+\n",
      "50000 Free eBooks & Free AudioBooks : 5,000,000+\n",
      "Ag PhD Field Guide : 10,000+\n",
      "Ag PhD Deficiencies : 10,000+\n",
      "Ag PhD Planting Population Calculator : 1,000+\n",
      "Ag PhD Soybean Diseases : 1,000+\n",
      "Fertilizer Removal By Crop : 50,000+\n",
      "A-J Media Vault : 50+\n",
      "Al-Quran (Free) : 10,000,000+\n",
      "Al Quran (Tafsir & by Word) : 500,000+\n",
      "Al Quran Indonesia : 10,000,000+\n",
      "Al'Quran Bahasa Indonesia : 10,000,000+\n",
      "Al Quran Al karim : 1,000,000+\n",
      "Al-Muhaffiz : 50,000+\n",
      "Al Quran : EAlim - Translations & MP3 Offline : 5,000,000+\n",
      "Al-Quran 30 Juz free copies : 500,000+\n",
      "Koran Read &MP3 30 Juz Offline : 1,000,000+\n",
      "Hafizi Quran 15 lines per page : 1,000,000+\n",
      "Quran for Android : 10,000,000+\n",
      "Surah Al-Waqiah : 100,000+\n",
      "Hisnul Al Muslim - Hisn Invocations & Adhkaar : 100,000+\n",
      "Satellite AR : 1,000,000+\n",
      "Audiobooks from Audible : 100,000,000+\n",
      "Kinot & Eichah for Tisha B'Av : 10,000+\n",
      "AW Tozer Devotionals - Daily : 5,000+\n",
      "Tozer Devotional -Series 1 : 1,000+\n",
      "The Pursuit of God : 1,000+\n",
      "AY Sing : 5,000+\n",
      "Ay Hasnain k Nana Milad Naat : 10,000+\n",
      "Ay Mohabbat Teri Khatir Novel : 10,000+\n",
      "Arizona Statutes, ARS (AZ Law) : 1,000+\n",
      "Oxford A-Z of English Usage : 1,000,000+\n",
      "BD Fishpedia : 1,000+\n",
      "BD All Sim Offer : 10,000+\n",
      "Youboox - Livres, BD et magazines : 500,000+\n",
      "B&H Kids AR : 10,000+\n",
      "B y H Niños ES : 5,000+\n",
      "Dictionary.com: Find Definitions for English Words : 10,000,000+\n",
      "English Dictionary - Offline : 10,000,000+\n",
      "Bible KJV : 5,000,000+\n",
      "Borneo Bible, BM Bible : 10,000+\n",
      "MOD Black for BM : 100+\n",
      "BM Box : 1,000+\n",
      "Anime Mod for BM : 100+\n",
      "NOOK: Read eBooks & Magazines : 10,000,000+\n",
      "NOOK Audiobooks : 500,000+\n",
      "NOOK App for NOOK Devices : 500,000+\n",
      "Browsery by Barnes & Noble : 5,000+\n",
      "bp e-store : 1,000+\n",
      "Brilliant Quotes: Life, Love, Family & Motivation : 1,000,000+\n",
      "BR Ambedkar Biography & Quotes : 10,000+\n",
      "BU Alsace : 100+\n",
      "Catholic La Bu Zo Kam : 500+\n",
      "Khrifa Hla Bu (Solfa) : 10+\n",
      "Kristian Hla Bu : 10,000+\n",
      "SA HLA BU : 1,000+\n",
      "Learn SAP BW : 500+\n",
      "Learn SAP BW on HANA : 500+\n",
      "CA Laws 2018 (California Laws and Codes) : 5,000+\n",
      "Bootable Methods(USB-CD-DVD) : 10,000+\n",
      "cloudLibrary : 100,000+\n",
      "SDA Collegiate Quarterly : 500+\n",
      "Sabbath School : 100,000+\n",
      "Cypress College Library : 100+\n",
      "Stats Royale for Clash Royale : 1,000,000+\n",
      "GATE 21 years CS Papers(2011-2018 Solved) : 50+\n",
      "Learn CT Scan Of Head : 5,000+\n",
      "Easy Cv maker 2018 : 10,000+\n",
      "How to Write CV : 100,000+\n",
      "CW Nuclear : 1,000+\n",
      "CY Spray nozzle : 10+\n",
      "BibleRead En Cy Zh Yue : 5+\n",
      "CZ-Help : 5+\n",
      "Modlitební knížka CZ : 500+\n",
      "Guide for DB Xenoverse : 10,000+\n",
      "Guide for DB Xenoverse 2 : 10,000+\n",
      "Guide for IMS DB : 10+\n",
      "DC HSEMA : 5,000+\n",
      "DC Public Library : 1,000+\n",
      "Painting Lulu DC Super Friends : 1,000+\n",
      "Dictionary : 10,000,000+\n",
      "Fix Error Google Playstore : 1,000+\n",
      "D. H. Lawrence Poems FREE : 1,000+\n",
      "Bilingual Dictionary Audio App : 5,000+\n",
      "DM Screen : 10,000+\n",
      "wikiHow: how to do anything : 1,000,000+\n",
      "Dr. Doug's Tips : 1,000+\n",
      "Bible du Semeur-BDS (French) : 50,000+\n",
      "La citadelle du musulman : 50,000+\n",
      "DV 2019 Entry Guide : 10,000+\n",
      "DV 2019 - EDV Photo & Form : 50,000+\n",
      "DV 2018 Winners Guide : 1,000+\n",
      "EB Annual Meetings : 1,000+\n",
      "EC - AP & Telangana : 5,000+\n",
      "TN Patta Citta & EC : 10,000+\n",
      "AP Stamps and Registration : 10,000+\n",
      "CompactiMa EC pH Calibration : 100+\n",
      "EGW Writings 2 : 100,000+\n",
      "EGW Writings : 1,000,000+\n",
      "Bible with EGW Comments : 100,000+\n",
      "My Little Pony AR Guide : 1,000,000+\n",
      "SDA Sabbath School Quarterly : 500,000+\n",
      "Duaa Ek Ibaadat : 5,000+\n",
      "Spanish English Translator : 10,000,000+\n",
      "Dictionary - Merriam-Webster : 10,000,000+\n",
      "JW Library : 10,000,000+\n",
      "Oxford Dictionary of English : Free : 10,000,000+\n",
      "English Hindi Dictionary : 10,000,000+\n",
      "English to Hindi Dictionary : 5,000,000+\n",
      "EP Research Service : 1,000+\n",
      "Hymnes et Louanges : 100,000+\n",
      "EU Charter : 1,000+\n",
      "EU Data Protection : 1,000+\n",
      "EU IP Codes : 100+\n",
      "EW PDF : 5+\n",
      "BakaReader EX : 100,000+\n",
      "EZ Quran : 50,000+\n",
      "FA Part 1 & 2 Past Papers Solved Free – Offline : 5,000+\n",
      "La Fe de Jesus : 1,000+\n",
      "La Fe de Jesús : 500+\n",
      "Le Fe de Jesus : 500+\n",
      "Florida - Pocket Brainbook : 1,000+\n",
      "Florida Statutes (FL Code) : 1,000+\n",
      "English To Shona Dictionary : 10,000+\n",
      "Greek Bible FP (Audio) : 1,000+\n",
      "Golden Dictionary (FR-AR) : 500,000+\n",
      "Fanfic-FR : 5,000+\n",
      "Bulgarian French Dictionary Fr : 10,000+\n",
      "Chemin (fr) : 1,000+\n",
      "The SCP Foundation DB fr nn5n : 1,000+\n"
     ]
    }
   ],
   "source": [
    "for app in android_free:\n",
    "    if app [1] == 'BOOKS_AND_REFERENCE':\n",
    "        print (app[0],':',app[5])"
   ]
  },
  {
   "cell_type": "markdown",
   "metadata": {},
   "source": [
    "This list is too large for us to make observations. We can isolate the apps with the most downloads by adding conditions to display with a large number of downloads in the `Installs` column such as `1,000,000,000+` and `500,000,000+`."
   ]
  },
  {
   "cell_type": "code",
   "execution_count": 42,
   "metadata": {},
   "outputs": [
    {
     "name": "stdout",
     "output_type": "stream",
     "text": [
      "Google Play Books : 1,000,000,000+\n",
      "Bible : 100,000,000+\n",
      "Amazon Kindle : 100,000,000+\n",
      "Wattpad 📖 Free Books : 100,000,000+\n",
      "Audiobooks from Audible : 100,000,000+\n"
     ]
    }
   ],
   "source": [
    "for app in android_free:\n",
    "    if app [1] == 'BOOKS_AND_REFERENCE' and (app [5] == '1,000,000,000+' \n",
    "                                             or app [5] == '500,000,000+' \n",
    "                                             or app [5] == '100,000,000+' \n",
    "                                             or app [5] == '50,000,000+'):\n",
    "        print (app[0],':',app[5])"
   ]
  },
  {
   "cell_type": "markdown",
   "metadata": {},
   "source": [
    "We can observe that the this category is also quite concentrated but the high amount of donwnloads could suggest people do go to the app stores to find book-related apps. There is `Google Play Books` with `1,000,000,000+` downloads which appears as an outlier. \n",
    "\n",
    "Let's take a look at apps across categories with high downloads (`1,000,000,000+`) and see if we can find a pattern among them. "
   ]
  },
  {
   "cell_type": "code",
   "execution_count": 43,
   "metadata": {
    "scrolled": true
   },
   "outputs": [
    {
     "name": "stdout",
     "output_type": "stream",
     "text": [
      "Google Play Books : 1,000,000,000+\n",
      "WhatsApp Messenger : 1,000,000,000+\n",
      "Messenger – Text and Video Chat for Free : 1,000,000,000+\n",
      "Skype - free IM & video calls : 1,000,000,000+\n",
      "Google Chrome: Fast & Secure : 1,000,000,000+\n",
      "Gmail : 1,000,000,000+\n",
      "Hangouts : 1,000,000,000+\n",
      "Subway Surfers : 1,000,000,000+\n",
      "Facebook : 1,000,000,000+\n",
      "Google+ : 1,000,000,000+\n",
      "Instagram : 1,000,000,000+\n",
      "Google Photos : 1,000,000,000+\n",
      "Maps - Navigate & Explore : 1,000,000,000+\n",
      "Google Street View : 1,000,000,000+\n",
      "Google : 1,000,000,000+\n",
      "Google Drive : 1,000,000,000+\n",
      "YouTube : 1,000,000,000+\n",
      "Google Play Movies & TV : 1,000,000,000+\n",
      "Google Play Games : 1,000,000,000+\n",
      "Google News : 1,000,000,000+\n"
     ]
    }
   ],
   "source": [
    "#checking apps with 1,000,000,000+ in the Android dataset \n",
    "for app in android_free:\n",
    "    if app [5] == '1,000,000,000+':                              \n",
    "        print (app[0],':',app[5])"
   ]
  },
  {
   "cell_type": "markdown",
   "metadata": {},
   "source": [
    "When looking at the apps that have `1,000,000,000+` downloads in the app store we find that they are mostly Google Apps and likely come pre-installed on Android phones. Without more granular analysis, we should not draw conclusions about what these downloads figures indicate as they are not likely organic. \n",
    "\n",
    "We will therefore take a look at the apps with less downloads to find more actionable insights from the data. "
   ]
  },
  {
   "cell_type": "code",
   "execution_count": 44,
   "metadata": {
    "scrolled": false
   },
   "outputs": [
    {
     "name": "stdout",
     "output_type": "stream",
     "text": [
      "Wikipedia : 10,000,000+\n",
      "Cool Reader : 10,000,000+\n",
      "Book store : 1,000,000+\n",
      "FBReader: Favorite Book Reader : 10,000,000+\n",
      "Free Books - Spirit Fanfiction and Stories : 1,000,000+\n",
      "AlReader -any text book reader : 5,000,000+\n",
      "FamilySearch Tree : 1,000,000+\n",
      "Cloud of Books : 1,000,000+\n",
      "ReadEra – free ebook reader : 1,000,000+\n",
      "Ebook Reader : 5,000,000+\n",
      "Read books online : 5,000,000+\n",
      "eBoox: book reader fb2 epub zip : 1,000,000+\n",
      "All Maths Formulas : 1,000,000+\n",
      "Ancestry : 5,000,000+\n",
      "HTC Help : 10,000,000+\n",
      "Moon+ Reader : 10,000,000+\n",
      "English-Myanmar Dictionary : 1,000,000+\n",
      "Golden Dictionary (EN-AR) : 1,000,000+\n",
      "All Language Translator Free : 1,000,000+\n",
      "Aldiko Book Reader : 10,000,000+\n",
      "Dictionary - WordWeb : 5,000,000+\n",
      "50000 Free eBooks & Free AudioBooks : 5,000,000+\n",
      "Al-Quran (Free) : 10,000,000+\n",
      "Al Quran Indonesia : 10,000,000+\n",
      "Al'Quran Bahasa Indonesia : 10,000,000+\n",
      "Al Quran Al karim : 1,000,000+\n",
      "Al Quran : EAlim - Translations & MP3 Offline : 5,000,000+\n",
      "Koran Read &MP3 30 Juz Offline : 1,000,000+\n",
      "Hafizi Quran 15 lines per page : 1,000,000+\n",
      "Quran for Android : 10,000,000+\n",
      "Satellite AR : 1,000,000+\n",
      "Oxford A-Z of English Usage : 1,000,000+\n",
      "Dictionary.com: Find Definitions for English Words : 10,000,000+\n",
      "English Dictionary - Offline : 10,000,000+\n",
      "Bible KJV : 5,000,000+\n",
      "NOOK: Read eBooks & Magazines : 10,000,000+\n",
      "Brilliant Quotes: Life, Love, Family & Motivation : 1,000,000+\n",
      "Stats Royale for Clash Royale : 1,000,000+\n",
      "Dictionary : 10,000,000+\n",
      "wikiHow: how to do anything : 1,000,000+\n",
      "EGW Writings : 1,000,000+\n",
      "My Little Pony AR Guide : 1,000,000+\n",
      "Spanish English Translator : 10,000,000+\n",
      "Dictionary - Merriam-Webster : 10,000,000+\n",
      "JW Library : 10,000,000+\n",
      "Oxford Dictionary of English : Free : 10,000,000+\n",
      "English Hindi Dictionary : 10,000,000+\n",
      "English to Hindi Dictionary : 5,000,000+\n"
     ]
    }
   ],
   "source": [
    "for app in android_free:\n",
    "    if app [1] == 'BOOKS_AND_REFERENCE' and (app [5] == '10,000,000+' \n",
    "                                             or app [5] == '5,000,000+' \n",
    "                                             or app [5] == '1,000,000+'):                                     \n",
    "        print (app[0],':',app[5])"
   ]
  },
  {
   "cell_type": "markdown",
   "metadata": {},
   "source": [
    "**Observations**\n",
    "\n",
    "We can observe from this list that there is a significant amount of books in connection to a religious texts, translation, and educational material such as dictionaries. This presents a potential opportunity to develop an app in this genre as well for the Android app store."
   ]
  },
  {
   "cell_type": "markdown",
   "metadata": {},
   "source": [
    "### The Proposed Solution\n",
    "\n",
    "As a reminder, we found in the Apple app store dataset that `Books` was an interesting category to pursue with potential to provide value by making content for books more engaging and playful. The `BOOKS_AND_REFERENCE` category from the Android dataset is also worth exploring. Apps with content related to religious texts, translation, and educational material have quite significant download numbers. \n",
    "\n",
    "We can combine these observations and patterns to recommend the development of an app which would offer a library of books or texts with the potential to bring the content to life in a engaging and playful way. \n",
    "\n",
    "Books targeted for a younger audience could have 'gamification' elements such as:\n",
    "- colouring\n",
    "- light quizzes\n",
    "- shortened versions\n",
    "\n",
    "and for adult and older audiences the new ways to bring content to life could be:\n",
    "- quotes\n",
    "- analyses\n",
    "- key points \n",
    "- taught classes to use frameworks from the book.\n",
    "\n",
    "The proposed solution to the development team would be to create an app that acts as a 'gamification engine' along with visually engaging User Interface elements to bring to life the content from books or texts. The book's authors or individuals with knowledge about religious texts or languages could create and contribute the content. This would relieve the need for in-house topic experts to create content while providing creators with a solution to create  gamified and interactive content through the app about a topic they know well. In the current mobile app market with high competition and marketing costs to get impressions, this solution could be more profitable than building standalone apps which could have high fixed and variable costs to develop and market. \n",
    "\n",
    "There is potentially a hardware ecosystem element to this solution. A colouring book could be immersive for families with smart pens for example. People with smartwatches could also get nudges in the forms of quotes or key points daily. This ensures we have a value proposition for which users can make the most of the ecosystem they have invested in. \n",
    "\n",
    "The monetization element could come from affiliate links, selling source content books and related merchandise (classes & lectures, etc.) from which each book gamification element is based on. This could be coupled with the 'recommended books' based on user baskets and related purchases. These revenue sources will hopefully provide educational value for the app users. The intended educational value would shield our users from undesirable effects of in-app purchases such as in the mobile gaming industry - spending on in-game coins and elements that may not provide lasting educational value. The diversity of in-app purchases also aligns with the recommendation of the Forbes author to provide different options for users in order to make the app more attractive for repeat purchases. \n",
    "\n",
    "In addition to `Reference` and `Books`, this app proposal could be attributed to multiple categories such as games, education, entertainment, and family (in the Google Store). This would give it more exposure and make it present in categories with significant download volumes."
   ]
  },
  {
   "cell_type": "markdown",
   "metadata": {},
   "source": [
    "During the analysis phase of each `Genre` in each app store, we observed that a concentration of a small number of apps are being downloaded disproprotionately more than the rest in each category. This may indicate the concentrated 'winner-take-all' and concentrated nature of these markets. Furthermore, this demonstrates a certain saturation of the mobile app market. While there is potential to create a unique mobile app, a level of specialisation for content creation or app mechanics may be required to make it unique and attractive for users. We can look at Apple's policy of 'Minimum Functionality' as potential evidence of the industry's response to the high volume of apps being created and requiring a certain degree of uniqueness to be listed on the App Store. : \n",
    "> \"Your app should include features, content, and UI that elevate it beyond a repackaged website. If your app is not particularly useful, unique, or “app-like,” it doesn’t belong on the App Store. If your App doesn’t provide some sort of lasting entertainment value or adequate utility, it may not be accepted.\" [Apple, 2023](https://developer.apple.com/app-store/review/guidelines/#minimum-functionality:~:text=4.1%20Copycats-,4.2%20Minimum%20Functionality,-4.3%20Spam)\n",
    "\n",
    "indicating the need to propose a novel experience for users both in terms of content and experience.\n",
    "\n",
    "The proposed solution would leverage book authors and topic experts to act as 'content specialists' which could provde content in a novel way. This would help us combat content fatigue and provide a unique experience for users. "
   ]
  },
  {
   "cell_type": "markdown",
   "metadata": {},
   "source": [
    "---"
   ]
  },
  {
   "cell_type": "markdown",
   "metadata": {},
   "source": [
    "## Conclusion\n",
    "\n",
    "\n",
    "In conclusion, a recommendation for a free-to-download app format was provided based on the analysis of the genres of most downloaded apps. The recommendation is to create an app that can bring to life text content that would from books, religious texts, or educational material. We observed that the free-to-download app market is quite contentrated and saturated so an original idea in terms of functionality and value-add for users is key to make the app popular but also get it approved on the app stores.  \n",
    "\n",
    "\n",
    "In future research projects using this dataset, an area of interest to explore is how price affects the number of downloads an app gets, and possible recommendations about paid apps to develop. This analysis would help us make a recommendation for a company looking to capitalise on the app purchase revenue model. In terms of methods, this dataset could benefit from visual analysis using plots and charts to illustrate the patterns observed. "
   ]
  }
 ],
 "metadata": {
  "kernelspec": {
   "display_name": "Python 3 (ipykernel)",
   "language": "python",
   "name": "python3"
  },
  "language_info": {
   "codemirror_mode": {
    "name": "ipython",
    "version": 3
   },
   "file_extension": ".py",
   "mimetype": "text/x-python",
   "name": "python",
   "nbconvert_exporter": "python",
   "pygments_lexer": "ipython3",
   "version": "3.9.13"
  }
 },
 "nbformat": 4,
 "nbformat_minor": 4
}
